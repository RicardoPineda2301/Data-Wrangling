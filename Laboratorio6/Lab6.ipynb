{
 "metadata": {
  "language_info": {
   "codemirror_mode": {
    "name": "ipython",
    "version": 3
   },
   "file_extension": ".py",
   "mimetype": "text/x-python",
   "name": "python",
   "nbconvert_exporter": "python",
   "pygments_lexer": "ipython3",
   "version": "3.8.3-final"
  },
  "orig_nbformat": 2,
  "kernelspec": {
   "name": "Python 3.8.3 64-bit ('base': conda)",
   "display_name": "Python 3.8.3 64-bit ('base': conda)",
   "metadata": {
    "interpreter": {
     "hash": "5f6c10c60de62843dc081b03eee6c66e3cd973187366879027e60b56edf49fc4"
    }
   }
  }
 },
 "nbformat": 4,
 "nbformat_minor": 2,
 "cells": [
  {
   "source": [
    "# Imports"
   ],
   "cell_type": "markdown",
   "metadata": {
    "tags": []
   }
  },
  {
   "cell_type": "code",
   "execution_count": 2,
   "metadata": {
    "tags": []
   },
   "outputs": [
    {
     "output_type": "stream",
     "name": "stdout",
     "text": "Terminado\n"
    }
   ],
   "source": [
    "import re\n",
    "\n",
    "print(\"Terminado\")"
   ]
  },
  {
   "source": [
    "## Preguntas"
   ],
   "cell_type": "markdown",
   "metadata": {}
  },
  {
   "source": [
    "### Inciso 1"
   ],
   "cell_type": "markdown",
   "metadata": {}
  },
  {
   "source": [
    "Genere una expresión regular que sea capaz de detectar las placas de un vehículo particular guatemalteco.\n",
    "\n",
    "Tome en cuenta solo las placas **p** por que la instruccion pide placas de carros **particulares**"
   ],
   "cell_type": "markdown",
   "metadata": {}
  },
  {
   "cell_type": "code",
   "execution_count": 3,
   "metadata": {
    "tags": []
   },
   "outputs": [
    {
     "output_type": "stream",
     "name": "stdout",
     "text": "P110GYQ -&gt; Es correcto\nP887CBD -&gt; Es correcto\nC000ABC -&gt; No es correcto\nP123AEO -&gt; No es correcto\nPXYZ023 -&gt; No es correcto\n"
    }
   ],
   "source": [
    "Placas = ['P110GYQ', 'P887CBD', 'C000ABC', 'P123AEO', 'PXYZ023']\n",
    "largo = len(Placas)\n",
    "\n",
    "for i in range(largo):\n",
    "    valida_archivo = re.fullmatch('^[P][0-9]{3}[B-D|F-H|J-N|P-T|V-Z]{3}', Placas[i])\n",
    "    if valida_archivo != None:\n",
    "        print(Placas[i] + \" -> Es correcto\")\n",
    "    else:\n",
    "        print(Placas[i] + \" -> No es correcto\")\n",
    "    i = i + 1"
   ]
  },
  {
   "source": [
    "### Inciso 2"
   ],
   "cell_type": "markdown",
   "metadata": {}
  },
  {
   "source": [
    "Genere una expresión regular que valide si un archivo es de tipo .pdf o jpg.a.Ejemplo1.pdf, prueba2.PDF, respuestas_del_examen.jpg, amor.JPG"
   ],
   "cell_type": "markdown",
   "metadata": {}
  },
  {
   "cell_type": "code",
   "execution_count": 18,
   "metadata": {
    "tags": []
   },
   "outputs": [
    {
     "output_type": "stream",
     "name": "stdout",
     "text": "Ejemplo1.pdf -&gt; Es correcto\nprueba2.PDF -&gt; Es correcto\nrespuestas_del_examen.jpg -&gt; Es correcto\namor.JPG -&gt; Es correcto\nError.xml -&gt; No es correcto\nPrueba2.JSON -&gt; No es correcto\nensayopdf -&gt; No es correcto\ninvalidojpg -&gt; No es correcto\n"
    }
   ],
   "source": [
    "Pruebas = ['Ejemplo1.pdf', 'prueba2.PDF', 'respuestas_del_examen.jpg', 'amor.JPG', 'Error.xml', 'Prueba2.JSON', 'ensayopdf', 'invalidojpg']\n",
    "largo = len(Pruebas)\n",
    "\n",
    "for i in range(largo):\n",
    "    valida_archivo = re.fullmatch('^.+\\.(([pP][dD][fF])|([jJ][pP][gG]))$', Pruebas[i])\n",
    "    if valida_archivo != None:\n",
    "        print(Pruebas[i] + \" -> Es correcto\")\n",
    "    else:\n",
    "        print(Pruebas[i] + \" -> No es correcto\")\n",
    "    i = i + 1\n"
   ]
  },
  {
   "source": [
    "### Inciso 3"
   ],
   "cell_type": "markdown",
   "metadata": {}
  },
  {
   "source": [
    "Genere una expresión regular para validar contraseñas de correo.Una contraseña de correo debe contener por lo menos 8 caracteres, una letra mayúscula y un carácter especial."
   ],
   "cell_type": "markdown",
   "metadata": {}
  },
  {
   "cell_type": "code",
   "execution_count": 5,
   "metadata": {
    "tags": []
   },
   "outputs": [
    {
     "output_type": "stream",
     "name": "stdout",
     "text": "Contraseña es muy debil... Intentelo de nuevo\nContraseña es muy debil... Intentelo de nuevo\nContraseña fuerte. Aceptada\n"
    }
   ],
   "source": [
    "def ValidaPass(p):\n",
    "    validacion_pass = re.fullmatch('(?=\\D*\\d)(?=[^A-Z]*[A-Z])(?=.*[@$%&*#!?])[A-Za-z0-9\\D]{8,}', p)\n",
    "    f = False\n",
    "    if f == False:\n",
    "        if validacion_pass != None:\n",
    "            print('Contraseña fuerte. Aceptada')\n",
    "            f = True\n",
    "        else:\n",
    "            print('Contraseña es muy debil... Intentelo de nuevo')\n",
    "            ValidaPass(p = input())\n",
    "ValidaPass(p = input())"
   ]
  },
  {
   "source": [
    "### Inciso 4"
   ],
   "cell_type": "markdown",
   "metadata": {}
  },
  {
   "source": [
    "Cree una expresión regular para validar un numero de carnet de la Universidad Galileo, por ejemplo 19002324 donde los primeros dos dígitos representan el año en el que el alumno se inscribió los cuales pueden variar desde el 01 (año 2001) hasta el 30 (año 2030). Los siguientes dos dígitos son cero (00) los cuales \n",
    "van por default y los últimos cuatro dígitos son un número que va desde el 1110 hasta el 8970. Para dar su respuesta utilice la notación de expresiones regulares\n"
   ],
   "cell_type": "markdown",
   "metadata": {}
  },
  {
   "cell_type": "code",
   "execution_count": 6,
   "metadata": {
    "tags": []
   },
   "outputs": [
    {
     "output_type": "stream",
     "name": "stdout",
     "text": "00002301 -&gt; No es correcto\n09025647 -&gt; No es correcto\n14002016 -&gt; Es correcto\n30005665 -&gt; Es correcto\n31007845 -&gt; No es correcto\n25009999 -&gt; No es correcto\n16005479 -&gt; Es correcto\n"
    }
   ],
   "source": [
    "Carnets = ['00002301', '09025647', '14002016', '30005665', '31007845', '25009999', '16005479']\n",
    "largo = len(Carnets)\n",
    "\n",
    "for i in range(largo):\n",
    "    valida_carnet = re.fullmatch('((((0|1|2)[1-9])|(1|2)[0-9])|(30))00((1[1-9][1-9]\\d)|([2-7]\\d\\d\\d)|(8\\d[0-6]\\d)|(8\\d70))', Carnets[i])\n",
    "    if valida_carnet != None:\n",
    "        print(Carnets[i] + \" -> Es correcto\")\n",
    "    else:\n",
    "        print(Carnets[i] + \" -> No es correcto\")\n",
    "    i = i + 1\n"
   ]
  },
  {
   "source": [
    "### Inciso 5"
   ],
   "cell_type": "markdown",
   "metadata": {}
  },
  {
   "source": [
    "Cree una expresión regular que encuentre todas las palabras de la primera línea, pero ninguna de la segunda\n",
    "\n",
    "- pit, spot, spate, slap two, respite\n",
    "\n",
    "- pt,Pot,peat,part"
   ],
   "cell_type": "markdown",
   "metadata": {}
  },
  {
   "cell_type": "code",
   "execution_count": 7,
   "metadata": {
    "tags": []
   },
   "outputs": [
    {
     "output_type": "stream",
     "name": "stdout",
     "text": "pit -&gt; Es Correcto\nspot -&gt; Es Correcto\nspate -&gt; Es Correcto\nslap two -&gt; Es Correcto\nrespite -&gt; Es Correcto\npt -&gt; Es Incorrecto\nPot -&gt; Es Incorrecto\npeat -&gt; Es Incorrecto\npart -&gt; Es Incorrecto\n"
    }
   ],
   "source": [
    "Pruebas = ['pit', 'spot', 'spate', 'slap two', 'respite', 'pt', 'Pot', 'peat', 'part']\n",
    "largo = len(Pruebas)\n",
    "\n",
    "for i in range(largo):\n",
    "    validacion = re.fullmatch(\".*p.t.*\", Pruebas[i])\n",
    "    if validacion != None:\n",
    "        print(Pruebas[i] + \" -> Es Correcto\")\n",
    "    else:\n",
    "        print(Pruebas[i] + \" -> Es Incorrecto\")\n",
    "    i = i + 1"
   ]
  },
  {
   "source": [
    "### Inciso 6"
   ],
   "cell_type": "markdown",
   "metadata": {}
  },
  {
   "source": [
    "Cree una expresión regular para obtener los números telefónicos de Guatemala. Estos pueden contener al inicio +502 o 502, pueden estar separados por un espacio en blanco o un guión o juntos. Notar que los números telefónicos pueden empezar únicamente con 4,5,6 o 2."
   ],
   "cell_type": "markdown",
   "metadata": {}
  },
  {
   "cell_type": "code",
   "execution_count": 8,
   "metadata": {
    "tags": []
   },
   "outputs": [
    {
     "output_type": "stream",
     "name": "stdout",
     "text": "+50254821151 -&gt; Es Correcto\n4210-7640 -&gt; Es Correcto\n52018150 -&gt; Es Correcto\n2434 6854 -&gt; Es Correcto\n11234569 -&gt; Es Incorrecto\n50211234578 -&gt; Es Incorrecto\n"
    }
   ],
   "source": [
    "Tels = ['+50254821151', '4210-7640', '52018150', '2434 6854', '11234569', '50211234578']\n",
    "largo = len(Tels)\n",
    "\n",
    "for i in range(largo):\n",
    "    validacion = re.fullmatch(\"((\\+502|502)){0,1}?(\\-| )?(2|4|5|6)([\\d](\\-| )?){7}\", Tels[i])\n",
    "    if validacion != None:\n",
    "        print(Tels[i] + \" -> Es Correcto\")\n",
    "    else:\n",
    "        print(Tels[i] + \" -> Es Incorrecto\")\n",
    "    i = i + 1"
   ]
  },
  {
   "source": [
    "### Inciso 7"
   ],
   "cell_type": "markdown",
   "metadata": {}
  },
  {
   "source": [
    "Genere una expresión regular que sea capaz de obtener correos de la UFM.\n",
    "Asumiré que los correos pueden tener tanto letras, como numeros."
   ],
   "cell_type": "markdown",
   "metadata": {}
  },
  {
   "cell_type": "code",
   "execution_count": 9,
   "metadata": {
    "tags": []
   },
   "outputs": [
    {
     "output_type": "stream",
     "name": "stdout",
     "text": "ricardopineda@ufm.edu -&gt; Es correo de la UFM\nricardopineda@ufm.com -&gt; Correo incorrecto\nricardopineda@gmail.com -&gt; Correo incorrecto\nricardopineda@gmail.edu -&gt; Correo incorrecto\nric@rd0@ufm.edu -&gt; Correo incorrecto\nrp2301@ufm.edu -&gt; Es correo de la UFM\nricardo@ufm.edu@ufm.edu -&gt; Correo incorrecto\n"
    }
   ],
   "source": [
    "Correos = ['ricardopineda@ufm.edu', 'ricardopineda@ufm.com', 'ricardopineda@gmail.com', 'ricardopineda@gmail.edu', 'ric@rd0@ufm.edu', 'rp2301@ufm.edu', 'ricardo@ufm.edu@ufm.edu']\n",
    "largo = len(Correos)\n",
    "\n",
    "for i in range(largo):\n",
    "    validacion = re.fullmatch(\"([a-z]{0,}[0-9]{0,})+@(ufm.edu){1}\", Correos[i])\n",
    "\n",
    "    if validacion != None:\n",
    "        print(Correos[i] + \" -> Es correo de la UFM\")\n",
    "    else:\n",
    "        print(Correos[i] + \" -> Correo incorrecto\")"
   ]
  },
  {
   "source": [
    "### Inciso 8"
   ],
   "cell_type": "markdown",
   "metadata": {}
  },
  {
   "source": [
    "En el mundo distópico de Eurasia, Big Brother le asigna un identificador único a cada ciudadano. Genereuna expresión regular que valide las identificaciones. Composición del id:\n",
    "\n",
    "- El id inicia con 0 a 3 letras minúsculas (puede tener 0 letras minúsculas hasta tres letras minúsculas)\n",
    "\n",
    "- Luego es seguido por una cadena de dígitos que puede ser de 2 a 9 dígitos respectivamente.\n",
    "- Inmediatamente después de la cadena de dígitos, se encuentra por lo menos tres letras mayúsculas.\n",
    "\n",
    "- Ej: abc012333ABCDEEEE"
   ],
   "cell_type": "markdown",
   "metadata": {}
  },
  {
   "cell_type": "code",
   "execution_count": 10,
   "metadata": {
    "tags": []
   },
   "outputs": [
    {
     "output_type": "stream",
     "name": "stdout",
     "text": "abc012333ABCDEEEEID aceptado\n01ZZZID aceptado\nmle23AYXID aceptado\nAB23zyx No cumple con las normas\n034AXLID aceptado\nabcd12345678900NO No cumple con las normas\n"
    }
   ],
   "source": [
    "ids = ['abc012333ABCDEEEE', '01ZZZ', 'mle23AYX', 'AB23zyx', '034AXL', 'abcd12345678900NO']\n",
    "largo = len(ids)\n",
    "\n",
    "for i in range(largo):\n",
    "    validacion = re.fullmatch(\"([(a-z]{0,3})((\\d){2,9})([A-Z]{3,})\", ids[i])\n",
    "    if validacion != None:\n",
    "        print(ids[i] + \"ID aceptado\")\n",
    "    else:\n",
    "        print(ids[i] + \" No cumple con las normas\")"
   ]
  }
 ]
}