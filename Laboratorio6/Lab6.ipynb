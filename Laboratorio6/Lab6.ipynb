{
 "metadata": {
  "language_info": {
   "codemirror_mode": {
    "name": "ipython",
    "version": 3
   },
   "file_extension": ".py",
   "mimetype": "text/x-python",
   "name": "python",
   "nbconvert_exporter": "python",
   "pygments_lexer": "ipython3",
   "version": "3.8.3-final"
  },
  "orig_nbformat": 2,
  "kernelspec": {
   "name": "Python 3.8.3 64-bit ('base': conda)",
   "display_name": "Python 3.8.3 64-bit ('base': conda)",
   "metadata": {
    "interpreter": {
     "hash": "5f6c10c60de62843dc081b03eee6c66e3cd973187366879027e60b56edf49fc4"
    }
   }
  }
 },
 "nbformat": 4,
 "nbformat_minor": 2,
 "cells": [
  {
   "source": [
    "# Imports"
   ],
   "cell_type": "markdown",
   "metadata": {
    "tags": []
   }
  },
  {
   "cell_type": "code",
   "execution_count": 2,
   "metadata": {
    "tags": []
   },
   "outputs": [
    {
     "output_type": "stream",
     "name": "stdout",
     "text": "Terminado\n"
    }
   ],
   "source": [
    "import re\n",
    "import pandas as pd\n",
    "import numpy as np\n",
    "\n",
    "print(\"Terminado\")"
   ]
  },
  {
   "source": [
    "## Preguntas"
   ],
   "cell_type": "markdown",
   "metadata": {}
  },
  {
   "source": [
    "### Inciso 1"
   ],
   "cell_type": "markdown",
   "metadata": {}
  },
  {
   "source": [
    "Genere una expresión regular que sea capaz de detectar las placas de un vehículo particular guatemalteco."
   ],
   "cell_type": "markdown",
   "metadata": {}
  },
  {
   "cell_type": "code",
   "execution_count": 18,
   "metadata": {
    "tags": []
   },
   "outputs": [
    {
     "output_type": "stream",
     "name": "stdout",
     "text": "La placa es valida!\n"
    }
   ],
   "source": [
    "placa = input(\"Inserte su placa: \")\n",
    "valida_placa = re.fullmatch('^[P][0-9]{3}[B-D|F-H|J-N|P-T|V-Z]{3}', placa.upper())\n",
    "if valida_placa != None:\n",
    "    print(\"La placa es valida!\")\n",
    "else:\n",
    "    print(\"La placa no es valida...\")"
   ]
  },
  {
   "source": [
    "### Inciso 2"
   ],
   "cell_type": "markdown",
   "metadata": {}
  },
  {
   "source": [
    "Genere una expresión regular que valide si un archivo es de tipo .pdf o jpg.a.Ejemplo1.pdf, prueba2.PDF, respuestas_del_examen.jpg, amor.JPG"
   ],
   "cell_type": "markdown",
   "metadata": {}
  },
  {
   "cell_type": "code",
   "execution_count": 112,
   "metadata": {
    "tags": []
   },
   "outputs": [
    {
     "output_type": "stream",
     "name": "stdout",
     "text": "Ejemplo1.pdf -&gt; Es correcto\nprueba2.PDF -&gt; Es correcto\nrespuestas_del_examen.jpg -&gt; Es correcto\namor.JPG -&gt; Es correcto\nError.xml -&gt; No es correcto\nPrueba2.JSON -&gt; No es correcto\n"
    }
   ],
   "source": [
    "Pruebas = ['Ejemplo1.pdf', 'prueba2.PDF', 'respuestas_del_examen.jpg', 'amor.JPG', 'Error.xml', 'Prueba2.JSON']\n",
    "largo = len(Pruebas)\n",
    "\n",
    "for i in range(largo):\n",
    "    valida_archivo = re.fullmatch('\\w+.((pdf|PDF)|(jpg|JPG))', Pruebas[i])\n",
    "    if valida_archivo != None:\n",
    "        print(Pruebas[i] + \" -> Es correcto\")\n",
    "    else:\n",
    "        print(Pruebas[i] + \" -> No es correcto\")\n",
    "    i = i + 1\n"
   ]
  },
  {
   "source": [
    "### Inciso 3"
   ],
   "cell_type": "markdown",
   "metadata": {}
  },
  {
   "source": [
    "Genere una expresión regular para validar contraseñas de correo.Una contraseña de correo debe contener por lo menos 8 caracteres, una letra mayúscula y un carácter especial."
   ],
   "cell_type": "markdown",
   "metadata": {}
  },
  {
   "cell_type": "code",
   "execution_count": 94,
   "metadata": {
    "tags": []
   },
   "outputs": [
    {
     "output_type": "stream",
     "name": "stdout",
     "text": "Contraseña es muy debil... Intentelo de nuevo\nContraseña fuerte. Aceptada\n"
    }
   ],
   "source": [
    "def ValidaPass(p):\n",
    "    validacion_pass = re.fullmatch('(?=\\D*\\d)(?=[^A-Z]*[A-Z])(?=.*[@$%&*#!?])[A-Za-z0-9\\D]{8,}', p)\n",
    "    f = False\n",
    "    if f == False:\n",
    "        if validacion_pass != None:\n",
    "            print('Contraseña fuerte. Aceptada')\n",
    "            f = True\n",
    "        else:\n",
    "            print('Contraseña es muy debil... Intentelo de nuevo')\n",
    "            ValidaPass(p = input())\n",
    "ValidaPass(p = input())"
   ]
  },
  {
   "source": [
    "### Inciso 4"
   ],
   "cell_type": "markdown",
   "metadata": {}
  },
  {
   "source": [
    "Cree una expresión regular para validar un numero de carnet de la Universidad Galileo, por ejemplo 19002324 donde los primeros dos dígitos representan el año en el que el alumno se inscribió los cuales pueden variar desde el 01 (año 2001) hasta el 30 (año 2030). Los siguientes dos dígitos son cero (00) los cuales \n",
    "van por default y los últimos cuatro dígitos son un número que va desde el 1110 hasta el 8970. Para dar su respuesta utilice la notación de expresiones regulares\n"
   ],
   "cell_type": "markdown",
   "metadata": {}
  },
  {
   "cell_type": "code",
   "execution_count": 113,
   "metadata": {
    "tags": []
   },
   "outputs": [
    {
     "output_type": "stream",
     "name": "stdout",
     "text": "00002301 -&gt; No es correcto\n09025647 -&gt; No es correcto\n14002016 -&gt; Es correcto\n30005665 -&gt; Es correcto\n31007845 -&gt; No es correcto\n25009999 -&gt; No es correcto\n16005479 -&gt; Es correcto\n"
    }
   ],
   "source": [
    "Carnets = ['00002301', '09025647', '14002016', '30005665', '31007845', '25009999', '16005479']\n",
    "largo = len(Carnets)\n",
    "\n",
    "for i in range(largo):\n",
    "    valida_carnet = re.fullmatch('((((0|1|2)[1-9])|(1|2)[0-9])|(30))00((1[1-9][1-9]\\d)|([2-7]\\d\\d\\d)|(8\\d[0-6]\\d)|(8\\d70))', Carnets[i])\n",
    "    if valida_carnet != None:\n",
    "        print(Carnets[i] + \" -> Es correcto\")\n",
    "    else:\n",
    "        print(Carnets[i] + \" -> No es correcto\")\n",
    "    i = i + 1\n"
   ]
  },
  {
   "source": [
    "### Inciso 5"
   ],
   "cell_type": "markdown",
   "metadata": {}
  },
  {
   "source": [
    "Cree una expresión regular que encuentre todas las palabras de la primera línea, pero ninguna de la segunda\n",
    "\n",
    "- pit, spot, spate, slap two, respite\n",
    "\n",
    "- pt,Pot,peat,part"
   ],
   "cell_type": "markdown",
   "metadata": {}
  },
  {
   "cell_type": "code",
   "execution_count": null,
   "metadata": {},
   "outputs": [],
   "source": []
  }
 ]
}