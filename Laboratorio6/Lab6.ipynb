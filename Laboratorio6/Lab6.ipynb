{
 "metadata": {
  "language_info": {
   "codemirror_mode": {
    "name": "ipython",
    "version": 3
   },
   "file_extension": ".py",
   "mimetype": "text/x-python",
   "name": "python",
   "nbconvert_exporter": "python",
   "pygments_lexer": "ipython3",
   "version": "3.8.3-final"
  },
  "orig_nbformat": 2,
  "kernelspec": {
   "name": "Python 3.8.3 64-bit ('base': conda)",
   "display_name": "Python 3.8.3 64-bit ('base': conda)",
   "metadata": {
    "interpreter": {
     "hash": "5f6c10c60de62843dc081b03eee6c66e3cd973187366879027e60b56edf49fc4"
    }
   }
  }
 },
 "nbformat": 4,
 "nbformat_minor": 2,
 "cells": [
  {
   "source": [
    "# Imports"
   ],
   "cell_type": "markdown",
   "metadata": {
    "tags": []
   }
  },
  {
   "cell_type": "code",
   "execution_count": 2,
   "metadata": {
    "tags": []
   },
   "outputs": [
    {
     "output_type": "stream",
     "name": "stdout",
     "text": "Terminado\n"
    }
   ],
   "source": [
    "import re\n",
    "import pandas as pd\n",
    "import numpy as np\n",
    "\n",
    "print(\"Terminado\")"
   ]
  },
  {
   "source": [
    "## Preguntas"
   ],
   "cell_type": "markdown",
   "metadata": {}
  },
  {
   "source": [
    "### Inciso 1"
   ],
   "cell_type": "markdown",
   "metadata": {}
  },
  {
   "source": [
    "Genere una expresión regular que sea capaz de detectar las placas de un vehículo particular guatemalteco."
   ],
   "cell_type": "markdown",
   "metadata": {}
  },
  {
   "cell_type": "code",
   "execution_count": 18,
   "metadata": {
    "tags": []
   },
   "outputs": [
    {
     "output_type": "stream",
     "name": "stdout",
     "text": "La placa es valida!\n"
    }
   ],
   "source": [
    "placa = input(\"Inserte su placa: \")\n",
    "valida_placa = re.fullmatch('^[P][0-9]{3}[B-D|F-H|J-N|P-T|V-Z]{3}', placa.upper())\n",
    "if valida_placa != None:\n",
    "    print(\"La placa es valida!\")\n",
    "else:\n",
    "    print(\"La placa no es valida...\")"
   ]
  },
  {
   "source": [
    "### Inciso 2"
   ],
   "cell_type": "markdown",
   "metadata": {}
  },
  {
   "source": [
    "Genere una expresión regular que valide si un archivo es de tipo .pdf o jpg.a.Ejemplo1.pdf, prueba2.PDF, respuestas_del_examen.jpg, amor.JPG"
   ],
   "cell_type": "markdown",
   "metadata": {}
  },
  {
   "cell_type": "code",
   "execution_count": 27,
   "metadata": {
    "tags": []
   },
   "outputs": [
    {
     "output_type": "stream",
     "name": "stdout",
     "text": "Ese nombre no es valido. Intente de nuevo sin usar los caracteres: &#39;\\ / : * ?  &lt; &gt; |&#39; \n"
    }
   ],
   "source": [
    "archivo = input(\"Inserte el nombre de su archivo: \")\n",
    "valida_archivo = re.fullmatch('\\w+.((pdf|PDF)|(jpg|JPG))', archivo.upper())\n",
    "if valida_archivo != None:\n",
    "    print(\"El nombre del archivo es valido\")\n",
    "else:\n",
    "    print(\"Ese nombre no es valido. Intente de nuevo sin usar los caracteres: '\\ / : * ?  < > |' y recuerde que el archivo debe de ser .pdf o .jpg\")"
   ]
  },
  {
   "cell_type": "code",
   "execution_count": null,
   "metadata": {},
   "outputs": [],
   "source": []
  }
 ]
}