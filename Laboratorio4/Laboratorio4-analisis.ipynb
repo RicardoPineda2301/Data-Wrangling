{
 "cells": [
  {
   "cell_type": "code",
   "execution_count": 80,
   "metadata": {},
   "outputs": [],
   "source": [
    "## Imports\n",
    "import pandas as pd\n",
    "import numpy as np\n",
    "import matplotlib.pyplot as plt\n",
    "import seaborn as sns"
   ]
  },
  {
   "cell_type": "markdown",
   "metadata": {},
   "source": [
    "### Dataframe"
   ]
  },
  {
   "cell_type": "code",
   "execution_count": 23,
   "metadata": {},
   "outputs": [
    {
     "data": {
      "text/html": [
       "<div>\n",
       "<style scoped>\n",
       "    .dataframe tbody tr th:only-of-type {\n",
       "        vertical-align: middle;\n",
       "    }\n",
       "\n",
       "    .dataframe tbody tr th {\n",
       "        vertical-align: top;\n",
       "    }\n",
       "\n",
       "    .dataframe thead th {\n",
       "        text-align: right;\n",
       "    }\n",
       "</style>\n",
       "<table border=\"1\" class=\"dataframe\">\n",
       "  <thead>\n",
       "    <tr style=\"text-align: right;\">\n",
       "      <th></th>\n",
       "      <th>NUMERO</th>\n",
       "      <th>COD_VIAJE</th>\n",
       "      <th>UBICACION</th>\n",
       "      <th>CANTIDAD</th>\n",
       "      <th>INGRESO</th>\n",
       "      <th>CREDITO</th>\n",
       "      <th>MES</th>\n",
       "      <th>AÑO</th>\n",
       "    </tr>\n",
       "  </thead>\n",
       "  <tbody>\n",
       "    <tr>\n",
       "      <th>count</th>\n",
       "      <td>2180.000000</td>\n",
       "      <td>2.180000e+03</td>\n",
       "      <td>2180.000000</td>\n",
       "      <td>2180.000000</td>\n",
       "      <td>2180.000000</td>\n",
       "      <td>2180.000000</td>\n",
       "      <td>2180.000000</td>\n",
       "      <td>2180.0</td>\n",
       "    </tr>\n",
       "    <tr>\n",
       "      <th>mean</th>\n",
       "      <td>1090.500000</td>\n",
       "      <td>1.000109e+07</td>\n",
       "      <td>76001.502294</td>\n",
       "      <td>1098.804128</td>\n",
       "      <td>274.701032</td>\n",
       "      <td>58.486239</td>\n",
       "      <td>6.015138</td>\n",
       "      <td>2019.0</td>\n",
       "    </tr>\n",
       "    <tr>\n",
       "      <th>std</th>\n",
       "      <td>629.456114</td>\n",
       "      <td>6.294561e+02</td>\n",
       "      <td>0.500109</td>\n",
       "      <td>525.951701</td>\n",
       "      <td>131.487925</td>\n",
       "      <td>24.272854</td>\n",
       "      <td>3.141785</td>\n",
       "      <td>0.0</td>\n",
       "    </tr>\n",
       "    <tr>\n",
       "      <th>min</th>\n",
       "      <td>1.000000</td>\n",
       "      <td>1.000000e+07</td>\n",
       "      <td>76001.000000</td>\n",
       "      <td>200.000000</td>\n",
       "      <td>50.000000</td>\n",
       "      <td>30.000000</td>\n",
       "      <td>1.000000</td>\n",
       "      <td>2019.0</td>\n",
       "    </tr>\n",
       "    <tr>\n",
       "      <th>25%</th>\n",
       "      <td>545.750000</td>\n",
       "      <td>1.000055e+07</td>\n",
       "      <td>76001.000000</td>\n",
       "      <td>642.500000</td>\n",
       "      <td>160.625000</td>\n",
       "      <td>30.000000</td>\n",
       "      <td>3.000000</td>\n",
       "      <td>2019.0</td>\n",
       "    </tr>\n",
       "    <tr>\n",
       "      <th>50%</th>\n",
       "      <td>1090.500000</td>\n",
       "      <td>1.000109e+07</td>\n",
       "      <td>76002.000000</td>\n",
       "      <td>1097.500000</td>\n",
       "      <td>274.375000</td>\n",
       "      <td>60.000000</td>\n",
       "      <td>6.000000</td>\n",
       "      <td>2019.0</td>\n",
       "    </tr>\n",
       "    <tr>\n",
       "      <th>75%</th>\n",
       "      <td>1635.250000</td>\n",
       "      <td>1.000164e+07</td>\n",
       "      <td>76002.000000</td>\n",
       "      <td>1562.000000</td>\n",
       "      <td>390.500000</td>\n",
       "      <td>90.000000</td>\n",
       "      <td>9.000000</td>\n",
       "      <td>2019.0</td>\n",
       "    </tr>\n",
       "    <tr>\n",
       "      <th>max</th>\n",
       "      <td>2180.000000</td>\n",
       "      <td>1.000218e+07</td>\n",
       "      <td>76002.000000</td>\n",
       "      <td>1996.000000</td>\n",
       "      <td>499.000000</td>\n",
       "      <td>90.000000</td>\n",
       "      <td>11.000000</td>\n",
       "      <td>2019.0</td>\n",
       "    </tr>\n",
       "  </tbody>\n",
       "</table>\n",
       "</div>"
      ],
      "text/plain": [
       "            NUMERO     COD_VIAJE     UBICACION     CANTIDAD      INGRESO  \\\n",
       "count  2180.000000  2.180000e+03   2180.000000  2180.000000  2180.000000   \n",
       "mean   1090.500000  1.000109e+07  76001.502294  1098.804128   274.701032   \n",
       "std     629.456114  6.294561e+02      0.500109   525.951701   131.487925   \n",
       "min       1.000000  1.000000e+07  76001.000000   200.000000    50.000000   \n",
       "25%     545.750000  1.000055e+07  76001.000000   642.500000   160.625000   \n",
       "50%    1090.500000  1.000109e+07  76002.000000  1097.500000   274.375000   \n",
       "75%    1635.250000  1.000164e+07  76002.000000  1562.000000   390.500000   \n",
       "max    2180.000000  1.000218e+07  76002.000000  1996.000000   499.000000   \n",
       "\n",
       "           CREDITO          MES     AÑO  \n",
       "count  2180.000000  2180.000000  2180.0  \n",
       "mean     58.486239     6.015138  2019.0  \n",
       "std      24.272854     3.141785     0.0  \n",
       "min      30.000000     1.000000  2019.0  \n",
       "25%      30.000000     3.000000  2019.0  \n",
       "50%      60.000000     6.000000  2019.0  \n",
       "75%      90.000000     9.000000  2019.0  \n",
       "max      90.000000    11.000000  2019.0  "
      ]
     },
     "execution_count": 23,
     "metadata": {},
     "output_type": "execute_result"
    }
   ],
   "source": [
    "data = pd.read_csv('tabla_completa.csv')\n",
    "data.describe()"
   ]
  },
  {
   "cell_type": "markdown",
   "metadata": {},
   "source": [
    "### Cantidad de revenue generada en el año"
   ]
  },
  {
   "cell_type": "code",
   "execution_count": 168,
   "metadata": {},
   "outputs": [
    {
     "name": "stdout",
     "output_type": "stream",
     "text": [
      "598848.25\n"
     ]
    }
   ],
   "source": [
    "Rev = data[\"INGRESO\"].sum()\n",
    "print(Rev)"
   ]
  },
  {
   "cell_type": "markdown",
   "metadata": {},
   "source": [
    "### Revenue generado por tipo de vehículo"
   ]
  },
  {
   "cell_type": "code",
   "execution_count": 76,
   "metadata": {},
   "outputs": [
    {
     "name": "stdout",
     "output_type": "stream",
     "text": [
      "Ingreso por Camion Grande: 455466.5\n",
      "Ingreso por Camion Pequeño: 112815.25\n",
      "Ingreso por Panel: 30566.5\n"
     ]
    }
   ],
   "source": [
    "## Segmentar la data por tipo de vehiculo\n",
    "camion_grande = data.loc[data['UNIDAD'] == 'Camion Grande']\n",
    "camion_pequeño = data.loc[data['UNIDAD'] == 'Camion Peque�o']\n",
    "camion_panel = data.loc[data['UNIDAD'] == 'Panel']\n",
    "\n",
    "## Revenue por cada tipo de vehiculo\n",
    "rev_grande = camion_grande[\"INGRESO\"].sum()\n",
    "rev_pequeño = camion_pequeño[\"INGRESO\"].sum()\n",
    "rev_panel = camion_panel[\"INGRESO\"].sum()\n",
    "\n",
    "print('Ingreso por Camion Grande: ' + str(rev_grande))\n",
    "print('Ingreso por Camion Pequeño: ' + str(rev_pequeño))\n",
    "print('Ingreso por Panel: ' + str(rev_panel))"
   ]
  },
  {
   "cell_type": "markdown",
   "metadata": {},
   "source": [
    "Grafiquemoslo:"
   ]
  },
  {
   "cell_type": "code",
   "execution_count": 84,
   "metadata": {},
   "outputs": [
    {
     "data": {
      "image/png": "[encoded data removed]",
      "text/plain": [
       "<Figure size 432x288 with 1 Axes>"
      ]
     },
     "metadata": {},
     "output_type": "display_data"
    }
   ],
   "source": [
    "sns.set(style=\"whitegrid\")\n",
    "x = ['455466.5', '112815.25', '30566.5']\n",
    "y = ['Camion Grande', 'Camion Pequeño', 'Panel']\n",
    "ax = sns.barplot(x=x, y=y, data=tips)"
   ]
  },
  {
   "cell_type": "markdown",
   "metadata": {},
   "source": [
    "### Porcentaje de revenue por tipo de vehiculo"
   ]
  },
  {
   "cell_type": "code",
   "execution_count": 124,
   "metadata": {},
   "outputs": [
    {
     "data": {
      "image/png": "[encoded data removed]",
      "text/plain": [
       "<Figure size 432x288 with 1 Axes>"
      ]
     },
     "metadata": {},
     "output_type": "display_data"
    }
   ],
   "source": [
    "labels = 'Camion Grande', 'Camion Pequeño', 'Panel'\n",
    "sizes = [455466.5, 112815.25, 30566.5]\n",
    "explode = (0.1, 0.1, 0.1)  # 0.1 = Separa la pieza\n",
    "\n",
    "fig1, ax1 = plt.subplots()\n",
    "ax1.pie(sizes, explode=explode, labels=labels, autopct='%1.1f%%',\n",
    "        shadow=True, startangle=90)\n",
    "ax1.axis('equal')  # Equal asegura que sea un circulo\n",
    "\n",
    "plt.show()"
   ]
  },
  {
   "cell_type": "markdown",
   "metadata": {},
   "source": [
    "Podemos ver que los camiones grandes representan mas del 76% de los ingresos. Las paneles solo generan poco más del 5%.\n",
    "Es un análisis interesante ver cuantos vehiculos hay de cada tipo, veamos:"
   ]
  },
  {
   "cell_type": "code",
   "execution_count": 27,
   "metadata": {},
   "outputs": [
    {
     "data": {
      "text/plain": [
       "Camion Grande     1211\n",
       "Camion Peque�o     605\n",
       "Panel              364\n",
       "Name: UNIDAD, dtype: int64"
      ]
     },
     "execution_count": 27,
     "metadata": {},
     "output_type": "execute_result"
    }
   ],
   "source": [
    "data.UNIDAD.value_counts()"
   ]
  },
  {
   "cell_type": "markdown",
   "metadata": {},
   "source": [
    "Podemos ver que la mayor cantidad de vehiculos son camiones grandes, con 1211. Le sigue con casi exactamente la mitad, Camiones pequeños con 605. Por ultimo tenemos las paneles con 364. \n",
    "Eso nos deja un ingreso promedio por cada vehiculo de:"
   ]
  },
  {
   "cell_type": "markdown",
   "metadata": {},
   "source": [
    "Grafiquemoslo:"
   ]
  },
  {
   "cell_type": "code",
   "execution_count": 75,
   "metadata": {},
   "outputs": [
    {
     "data": {
      "image/png": "[encoded data removed]",
      "text/plain": [
       "<Figure size 432x288 with 1 Axes>"
      ]
     },
     "metadata": {
      "needs_background": "light"
     },
     "output_type": "display_data"
    }
   ],
   "source": [
    "height = [1211, 605, 364]\n",
    "bars = ('Camiones Grandes', 'Camiones pequeños', 'Paneles')\n",
    "y_pos = np.arange(len(bars))\n",
    " \n",
    "# Create bars\n",
    "plt.bar(y_pos, height)\n",
    " \n",
    "# Create names on the x-axis\n",
    "plt.xticks(y_pos, bars)\n",
    " \n",
    "# Show graphic\n",
    "plt.show()\n"
   ]
  },
  {
   "cell_type": "code",
   "execution_count": 35,
   "metadata": {},
   "outputs": [
    {
     "name": "stdout",
     "output_type": "stream",
     "text": [
      "Revenue promedio por Camion Grande: $376.11\n",
      "Revenue promedio por Camion Pequeño: $186.47\n",
      "Revenue promedio por Panel: $83.97\n"
     ]
    }
   ],
   "source": [
    "RevCamionGrande = round(455466.5/1211, 2)\n",
    "RevCamionPeq = round(112815.25/605, 2)\n",
    "RevPanel = round(30566.5/364, 2)\n",
    "\n",
    "Rev1 = str(RevCamionGrande)\n",
    "Rev2 = str(RevCamionPeq)\n",
    "Rev3 = str(RevPanel)\n",
    "\n",
    "print(\"Revenue promedio por Camion Grande: $\" + Rev1)\n",
    "print(\"Revenue promedio por Camion Pequeño: $\" + Rev2)\n",
    "print(\"Revenue promedio por Panel: $\" + Rev3)"
   ]
  },
  {
   "cell_type": "code",
   "execution_count": 85,
   "metadata": {},
   "outputs": [
    {
     "data": {
      "image/png": "[encoded data removed]",
      "text/plain": [
       "<Figure size 432x288 with 1 Axes>"
      ]
     },
     "metadata": {},
     "output_type": "display_data"
    }
   ],
   "source": [
    "sns.set(style=\"whitegrid\")\n",
    "x = ['376.11', '186.47', '83.97']\n",
    "y = ['Camion Grande', 'Camion Pequeño', 'Panel']\n",
    "ax = sns.barplot(x=x, y=y, data=tips, palette=\"Blues_d\")"
   ]
  },
  {
   "cell_type": "markdown",
   "metadata": {},
   "source": [
    "Definitivamente el mejor tipo de vehiculo son los Camiones Grandes, pues dejan en promedio 376.11 dolares cada uno. \n",
    "Los peores vehiculos son las paneles, pues solo dejan en promedio 83.97 dolares cada una.\n",
    "\n",
    "Hace falta tomar en cuenta los precios de mantenimiento de cada vehiculo, pero me parece que si se fueran a adquirir nuevos vehiculos, tendrían que ser Camiones Grandes."
   ]
  },
  {
   "cell_type": "markdown",
   "metadata": {},
   "source": [
    "### Creditos:"
   ]
  },
  {
   "cell_type": "markdown",
   "metadata": {},
   "source": [
    "Otro analisis interesante es ver la cantidad de creditos de 30, 60 y 90 días que tomaron los clientes:"
   ]
  },
  {
   "cell_type": "code",
   "execution_count": 77,
   "metadata": {},
   "outputs": [
    {
     "data": {
      "text/plain": [
       "30    771\n",
       "60    748\n",
       "90    661\n",
       "Name: CREDITO, dtype: int64"
      ]
     },
     "execution_count": 77,
     "metadata": {},
     "output_type": "execute_result"
    }
   ],
   "source": [
    "data.CREDITO.value_counts()"
   ]
  },
  {
   "cell_type": "markdown",
   "metadata": {},
   "source": [
    "El de 30 días es el más usado, pero no por mucho, los de 60 días tienen solo 23 menos. Grafiquemoslo:"
   ]
  },
  {
   "cell_type": "code",
   "execution_count": 79,
   "metadata": {},
   "outputs": [
    {
     "data": {
      "image/png": "[encoded data removed]",
      "text/plain": [
       "<Figure size 432x288 with 1 Axes>"
      ]
     },
     "metadata": {
      "needs_background": "light"
     },
     "output_type": "display_data"
    }
   ],
   "source": [
    "height = [771, 748, 661]\n",
    "bars = ('Crédito 30 días', 'Crédito 60 días', 'Crédito 90 días')\n",
    "y_pos = np.arange(len(bars))\n",
    " \n",
    "# Create bars\n",
    "plt.bar(y_pos, height)\n",
    " \n",
    "# Create names on the x-axis\n",
    "plt.xticks(y_pos, bars)\n",
    " \n",
    "# Show graphic\n",
    "plt.show()"
   ]
  },
  {
   "cell_type": "markdown",
   "metadata": {},
   "source": [
    "### Seleccionar los clientes existentes"
   ]
  },
  {
   "cell_type": "code",
   "execution_count": 36,
   "metadata": {},
   "outputs": [
    {
     "data": {
      "text/plain": [
       "TAQUERIA EL CHINITO                                   139\n",
       "BAR LA OFICINA                                        134\n",
       "UNIVERSIDAD FRANCISCO MARROQUIN/Despacho a cliente    134\n",
       "EL PINCHE OBELISCO |||Faltante                        133\n",
       "ABARROTERIA EBENEZER/Despacho a cliente               131\n",
       "TIENDA LA BENDICION / Despacho a cliente              129\n",
       "UBIQUO LABS                                           127\n",
       "EL GALLO NEGRO / Despacho a cliente                   126\n",
       "SPORTA, S.A./Despacho a cliente |||Faltante           124\n",
       "EL PINCHE OBELISCO / Despacho a cliente               123\n",
       "POLLO PINULITO|||FALTANTE                             119\n",
       "EL GALLO NEGRO |||DEVOLUCION                          119\n",
       "UBIQUO LABS |||FALTANTE                               114\n",
       "CHICHARRONERIA EL RICO COLESTEROL |||Faltante         114\n",
       "POLLO PINULITO/Despacho a cliente                     109\n",
       "TAQUERIA EL CHINITO |||Faltante                       108\n",
       "HOSPITAL ROOSEVELT / Despacho a cliente               105\n",
       "HOSPITAL LAS AMERICAS                                  92\n",
       "Name: CLIENTE, dtype: int64"
      ]
     },
     "execution_count": 36,
     "metadata": {},
     "output_type": "execute_result"
    }
   ],
   "source": [
    "data.CLIENTE.value_counts()"
   ]
  },
  {
   "cell_type": "code",
   "execution_count": 138,
   "metadata": {},
   "outputs": [],
   "source": [
    "# Normales\n",
    "Taqueria_el_chinito = data.loc[data['CLIENTE'] == 'TAQUERIA EL CHINITO']\n",
    "Bar_la_oficina = data.loc[data['CLIENTE'] == 'BAR LA OFICINA']\n",
    "Ubiquo = data.loc[data['CLIENTE'] == 'UBIQUO LABS']\n",
    "Hospital_americas = data.loc[data['CLIENTE'] == 'HOSPITAL LAS AMERICAS']\n",
    "\n",
    "# Despacho a cliente\n",
    "El_gallo_negro = data.loc[data['CLIENTE'] == 'EL GALLO NEGRO / Despacho a cliente']\n",
    "Pinulito = data.loc[data['CLIENTE'] == 'POLLO PINULITO/Despacho a cliente']\n",
    "Hospital_Roosevelt = data.loc[data['CLIENTE'] == 'HOSPITAL ROOSEVELT / Despacho a cliente']\n",
    "UFM = data.loc[data['CLIENTE'] == 'UNIVERSIDAD FRANCISCO MARROQUIN/Despacho a cliente']\n",
    "El_pinche = data.loc[data['CLIENTE'] == 'EL PINCHE OBELISCO / Despacho a cliente']\n",
    "Ebenezer = data.loc[data['CLIENTE'] == 'ABARROTERIA EBENEZER/Despacho a cliente']\n",
    "La_bendicion = data.loc[data['CLIENTE'] == 'TIENDA LA BENDICION / Despacho a cliente']\n",
    "\n",
    "# Faltante\n",
    "Sporta = data.loc[data['CLIENTE'] == 'SPORTA, S.A./Despacho a cliente |||Faltante']\n",
    "El_pinche_FALTANTE = data.loc[data['CLIENTE'] == 'EL PINCHE OBELISCO |||Faltante']\n",
    "Taqueria_chinito = data.loc[data['CLIENTE'] == 'TAQUERIA EL CHINITO |||Faltante']\n",
    "Uiquo_FALTANTE = data.loc[data['CLIENTE'] == 'UBIQUO LABS |||FALTANTE']\n",
    "Chicharroneria_colesterol = data.loc[data['CLIENTE'] == 'CHICHARRONERIA EL RICO COLESTEROL |||Faltante']\n",
    "\n",
    "# Devolucion\n",
    "Gallo_negro_DEVOLUCION = data.loc[data['CLIENTE'] == 'EL GALLO NEGRO |||DEVOLUCION']"
   ]
  },
  {
   "cell_type": "markdown",
   "metadata": {},
   "source": [
    "### Clientes sin problemas"
   ]
  },
  {
   "cell_type": "code",
   "execution_count": 150,
   "metadata": {},
   "outputs": [],
   "source": [
    "Taqueria = Taqueria_el_chinito[\"INGRESO\"].sum()\n",
    "Bar = Bar_la_oficina[\"INGRESO\"].sum()\n",
    "Ubiquo = Ubiquo[\"INGRESO\"].sum()\n",
    "HospitalAmericas = Hospital_americas[\"INGRESO\"].sum()\n",
    "ElGalloNegro = El_gallo_negro[\"INGRESO\"].sum()\n",
    "Pinulito = Pinulito[\"INGRESO\"].sum()\n",
    "Roosevelt = Hospital_Roosevelt[\"INGRESO\"].sum()\n",
    "UFM = UFM[\"INGRESO\"].sum()\n",
    "ElPinche = El_pinche[\"INGRESO\"].sum()\n",
    "Ebenezer = Ebenezer[\"INGRESO\"].sum()\n",
    "Bendicion = La_bendicion[\"INGRESO\"].sum()"
   ]
  },
  {
   "cell_type": "code",
   "execution_count": 151,
   "metadata": {},
   "outputs": [
    {
     "name": "stdout",
     "output_type": "stream",
     "text": [
      "Ingresos recaudador por 'Taqueria el Chinito': Q38274.0\n",
      "Ingresos recaudador por 'Bar la oficina': Q35163.5\n",
      "Ingresos recaudador por 'Ubiquo': Q32125.75\n",
      "Ingresos recaudador por 'Hospital las americas': Q22486.0\n",
      "Ingresos recaudador por 'El gallo negro': Q34485.0\n",
      "Ingresos recaudador por 'Pinulito': Q32100.0\n",
      "Ingresos recaudador por 'Hospital Roosevelt': Q26275.75\n",
      "Ingresos recaudador por 'UFM': Q37889.25\n",
      "Ingresos recaudador por 'El Pinche': Q35555.0\n",
      "Ingresos recaudador por 'Ebenezer': Q37129.0\n",
      "Ingresos recaudador por 'La Bendicion': Q35338.0\n"
     ]
    }
   ],
   "source": [
    "print(\"Ingresos recaudador por 'Taqueria el Chinito': Q\" + str(Taqueria))\n",
    "print(\"Ingresos recaudador por 'Bar la oficina': Q\" + str(Bar))\n",
    "print(\"Ingresos recaudador por 'Ubiquo': Q\" + str(Ubiquo))\n",
    "print(\"Ingresos recaudador por 'Hospital las americas': Q\" + str(HospitalAmericas))\n",
    "print(\"Ingresos recaudador por 'El gallo negro': Q\" + str(ElGalloNegro))\n",
    "print(\"Ingresos recaudador por 'Pinulito': Q\" + str(Pinulito))\n",
    "print(\"Ingresos recaudador por 'Hospital Roosevelt': Q\" + str(Roosevelt))\n",
    "print(\"Ingresos recaudador por 'UFM': Q\" + str(UFM))\n",
    "print(\"Ingresos recaudador por 'El Pinche': Q\" + str(ElPinche))\n",
    "print(\"Ingresos recaudador por 'Ebenezer': Q\" + str(Ebenezer))\n",
    "print(\"Ingresos recaudador por 'La Bendicion': Q\" + str(Bendicion))"
   ]
  },
  {
   "cell_type": "code",
   "execution_count": 127,
   "metadata": {},
   "outputs": [
    {
     "data": {
      "image/png": "[encoded data removed]",
      "text/plain": [
       "<Figure size 432x288 with 1 Axes>"
      ]
     },
     "metadata": {},
     "output_type": "display_data"
    }
   ],
   "source": [
    "labels = 'Taqueria el chinito', 'Bar la oficina', 'Ubiquo', 'Hospital las americas', 'El gallo negro', 'Pinulito', 'Hospital Roosevelt', 'UFM', 'El Pinche', 'Ebenezer', 'La Bendicion'\n",
    "sizes = [38274, 35163, 32125, 22486, 34485, 32100, 26275, 37889, 35555, 37129, 35338]\n",
    "explode = (0.1, 0, 0, 0, 0, 0, 0, 0, 0, 0, 0)  # 0.1 = Separa la pieza\n",
    "\n",
    "fig1, ax1 = plt.subplots()\n",
    "ax1.pie(sizes, explode=explode, labels=labels, autopct='%1.1f%%',\n",
    "        shadow=True, startangle=90)\n",
    "ax1.axis('equal')  # Equal asegura que sea un circulo\n",
    "\n",
    "plt.show()"
   ]
  },
  {
   "cell_type": "markdown",
   "metadata": {},
   "source": [
    "### Clientes con ordenes pendientes"
   ]
  },
  {
   "cell_type": "code",
   "execution_count": 152,
   "metadata": {},
   "outputs": [],
   "source": [
    "SportaF = Sporta[\"INGRESO\"].sum()\n",
    "ElPincheF = El_pinche_FALTANTE[\"INGRESO\"].sum()\n",
    "TaqueriaChinitoF = Taqueria_chinito[\"INGRESO\"].sum()\n",
    "UbiquoF = Uiquo_FALTANTE[\"INGRESO\"].sum()\n",
    "ChicharroneriaF = Chicharroneria_colesterol[\"INGRESO\"].sum()"
   ]
  },
  {
   "cell_type": "code",
   "execution_count": 153,
   "metadata": {},
   "outputs": [
    {
     "name": "stdout",
     "output_type": "stream",
     "text": [
      "Ingresos recaudador por 'SportaF': Q34984.25\n",
      "Ingresos recaudador por 'ElPincheF': Q35524.0\n",
      "Ingresos recaudador por 'TaqueriaChinitoF': Q30861.5\n",
      "Ingresos recaudador por 'UbiquoF': Q32125.0\n",
      "Ingresos recaudador por 'ChicharroneriaF': Q32456.25\n"
     ]
    }
   ],
   "source": [
    "print(\"Ingresos recaudador por 'SportaF': Q\" + str(SportaF))\n",
    "print(\"Ingresos recaudador por 'ElPincheF': Q\" + str(ElPincheF))\n",
    "print(\"Ingresos recaudador por 'TaqueriaChinitoF': Q\" + str(TaqueriaChinitoF))\n",
    "print(\"Ingresos recaudador por 'UbiquoF': Q\" + str(UbiquoF))\n",
    "print(\"Ingresos recaudador por 'ChicharroneriaF': Q\" + str(ChicharroneriaF))"
   ]
  },
  {
   "cell_type": "code",
   "execution_count": 142,
   "metadata": {},
   "outputs": [
    {
     "data": {
      "image/png": "[encoded data removed]",
      "text/plain": [
       "<Figure size 432x288 with 1 Axes>"
      ]
     },
     "metadata": {},
     "output_type": "display_data"
    }
   ],
   "source": [
    "labels = 'SportaF', 'ElPincheF', 'TaqueriaChinitoF', 'UbiquoF', 'ChicharroneriaF'\n",
    "sizes = [34984, 35524, 30861, 32125, 32456]\n",
    "explode = (0, 0, 0, 0, 0)  # 0.1 = Separa la pieza\n",
    "\n",
    "fig1, ax1 = plt.subplots()\n",
    "ax1.pie(sizes, explode=explode, labels=labels, autopct='%1.1f%%',\n",
    "        shadow=True, startangle=90)\n",
    "ax1.axis('equal')  # Equal asegura que sea un circulo\n",
    "\n",
    "plt.show()"
   ]
  },
  {
   "cell_type": "markdown",
   "metadata": {},
   "source": [
    "### Clientes que devolvieron"
   ]
  },
  {
   "cell_type": "code",
   "execution_count": 112,
   "metadata": {},
   "outputs": [
    {
     "data": {
      "text/html": [
       "<div>\n",
       "<style scoped>\n",
       "    .dataframe tbody tr th:only-of-type {\n",
       "        vertical-align: middle;\n",
       "    }\n",
       "\n",
       "    .dataframe tbody tr th {\n",
       "        vertical-align: top;\n",
       "    }\n",
       "\n",
       "    .dataframe thead th {\n",
       "        text-align: right;\n",
       "    }\n",
       "</style>\n",
       "<table border=\"1\" class=\"dataframe\">\n",
       "  <thead>\n",
       "    <tr style=\"text-align: right;\">\n",
       "      <th></th>\n",
       "      <th>NUMERO</th>\n",
       "      <th>COD_VIAJE</th>\n",
       "      <th>CLIENTE</th>\n",
       "      <th>UBICACION</th>\n",
       "      <th>CANTIDAD</th>\n",
       "      <th>PILOTO</th>\n",
       "      <th>INGRESO</th>\n",
       "      <th>CREDITO</th>\n",
       "      <th>UNIDAD</th>\n",
       "      <th>MES</th>\n",
       "      <th>AÑO</th>\n",
       "    </tr>\n",
       "  </thead>\n",
       "  <tbody>\n",
       "    <tr>\n",
       "      <th>8</th>\n",
       "      <td>9</td>\n",
       "      <td>10000009</td>\n",
       "      <td>EL GALLO NEGRO |||DEVOLUCION</td>\n",
       "      <td>76002</td>\n",
       "      <td>1601</td>\n",
       "      <td>Ismael Rodero Monteagudo</td>\n",
       "      <td>400.25</td>\n",
       "      <td>30</td>\n",
       "      <td>Camion Grande</td>\n",
       "      <td>1</td>\n",
       "      <td>2019</td>\n",
       "    </tr>\n",
       "    <tr>\n",
       "      <th>46</th>\n",
       "      <td>47</td>\n",
       "      <td>10000047</td>\n",
       "      <td>EL GALLO NEGRO |||DEVOLUCION</td>\n",
       "      <td>76002</td>\n",
       "      <td>362</td>\n",
       "      <td>Luis Jaime Urbano</td>\n",
       "      <td>90.50</td>\n",
       "      <td>90</td>\n",
       "      <td>Panel</td>\n",
       "      <td>1</td>\n",
       "      <td>2019</td>\n",
       "    </tr>\n",
       "    <tr>\n",
       "      <th>64</th>\n",
       "      <td>65</td>\n",
       "      <td>10000065</td>\n",
       "      <td>EL GALLO NEGRO |||DEVOLUCION</td>\n",
       "      <td>76001</td>\n",
       "      <td>1126</td>\n",
       "      <td>Angel Valdez Alegria</td>\n",
       "      <td>281.50</td>\n",
       "      <td>60</td>\n",
       "      <td>Camion Grande</td>\n",
       "      <td>1</td>\n",
       "      <td>2019</td>\n",
       "    </tr>\n",
       "    <tr>\n",
       "      <th>109</th>\n",
       "      <td>110</td>\n",
       "      <td>10000110</td>\n",
       "      <td>EL GALLO NEGRO |||DEVOLUCION</td>\n",
       "      <td>76001</td>\n",
       "      <td>696</td>\n",
       "      <td>Luis Jaime Urbano</td>\n",
       "      <td>174.00</td>\n",
       "      <td>60</td>\n",
       "      <td>Camion Peque�o</td>\n",
       "      <td>1</td>\n",
       "      <td>2019</td>\n",
       "    </tr>\n",
       "    <tr>\n",
       "      <th>123</th>\n",
       "      <td>124</td>\n",
       "      <td>10000124</td>\n",
       "      <td>EL GALLO NEGRO |||DEVOLUCION</td>\n",
       "      <td>76002</td>\n",
       "      <td>1618</td>\n",
       "      <td>Felipe Villatoro</td>\n",
       "      <td>404.50</td>\n",
       "      <td>30</td>\n",
       "      <td>Camion Grande</td>\n",
       "      <td>1</td>\n",
       "      <td>2019</td>\n",
       "    </tr>\n",
       "  </tbody>\n",
       "</table>\n",
       "</div>"
      ],
      "text/plain": [
       "     NUMERO  COD_VIAJE                       CLIENTE  UBICACION  CANTIDAD  \\\n",
       "8         9   10000009  EL GALLO NEGRO |||DEVOLUCION      76002      1601   \n",
       "46       47   10000047  EL GALLO NEGRO |||DEVOLUCION      76002       362   \n",
       "64       65   10000065  EL GALLO NEGRO |||DEVOLUCION      76001      1126   \n",
       "109     110   10000110  EL GALLO NEGRO |||DEVOLUCION      76001       696   \n",
       "123     124   10000124  EL GALLO NEGRO |||DEVOLUCION      76002      1618   \n",
       "\n",
       "                       PILOTO  INGRESO  CREDITO          UNIDAD  MES   AÑO  \n",
       "8    Ismael Rodero Monteagudo   400.25       30   Camion Grande    1  2019  \n",
       "46          Luis Jaime Urbano    90.50       90           Panel    1  2019  \n",
       "64       Angel Valdez Alegria   281.50       60   Camion Grande    1  2019  \n",
       "109         Luis Jaime Urbano   174.00       60  Camion Peque�o    1  2019  \n",
       "123          Felipe Villatoro   404.50       30   Camion Grande    1  2019  "
      ]
     },
     "execution_count": 112,
     "metadata": {},
     "output_type": "execute_result"
    }
   ],
   "source": [
    "Gallo_negro_DEVOLUCION.head()"
   ]
  },
  {
   "cell_type": "markdown",
   "metadata": {},
   "source": [
    "El unico cliente que registró una devolución fue el Gallo negro."
   ]
  },
  {
   "cell_type": "code",
   "execution_count": 154,
   "metadata": {},
   "outputs": [
    {
     "name": "stdout",
     "output_type": "stream",
     "text": [
      "El Gallo Negro devolvió un total de : Q33070.5\n"
     ]
    }
   ],
   "source": [
    "GalloDevolucion = Gallo_negro_DEVOLUCION[\"INGRESO\"].sum()\n",
    "print('El Gallo Negro devolvió un total de : Q' + str(GalloDevolucion))"
   ]
  },
  {
   "cell_type": "markdown",
   "metadata": {},
   "source": [
    "### Comparación de todos los clientes"
   ]
  },
  {
   "cell_type": "code",
   "execution_count": 167,
   "metadata": {},
   "outputs": [
    {
     "data": {
      "image/png": "[encoded data removed]",
      "text/plain": [
       "<Figure size 432x288 with 1 Axes>"
      ]
     },
     "metadata": {},
     "output_type": "display_data"
    }
   ],
   "source": [
    "sns.set(style=\"whitegrid\")\n",
    "x = ['71079', '69135', '64250', '37889','37129', '35338','35163', '34984', '34485', '32456',  '32100',  '26275', '22486']\n",
    "y = ['El Pinche', 'Taqueria Chinito', 'Ubiquo', 'UFM',  'La Bendicion', 'Ebenezer', 'Sporta',  'Bar la oficina', 'El Gallo Negro', 'Hospital Roosevelt', 'Hospital Americas',  'Pinulito', 'Chicharroneria Colesterol']\n",
    "ax = sns.barplot(x=x, y=y, data=tips, palette=\"Blues_d\", )"
   ]
  },
  {
   "cell_type": "markdown",
   "metadata": {},
   "source": [
    "### Cantidad de ingresos y relacion con las empresas mas valiosas"
   ]
  },
  {
   "cell_type": "markdown",
   "metadata": {},
   "source": [
    "- El Pinche es la empresa que más ingresos representa, con: Q71,079\n",
    "\n",
    "- Taqueria el Chinito es la segunda empresa que mas ingresos representa, con: Q69,135\n",
    "\n",
    "- Ubiquo es la tercera empresa más valiosa, representa un total de ganancias de: Q64,250\n",
    "\n",
    "Si consideramos que el total de revenue de la empresa en el año es de: Q598,848.25, podemos determinar el porcentaje que representa cada una de estas empresas."
   ]
  },
  {
   "cell_type": "code",
   "execution_count": 180,
   "metadata": {},
   "outputs": [
    {
     "name": "stdout",
     "output_type": "stream",
     "text": [
      "El porcentaje de revenue que representa el pinche es de: 11.87%\n",
      "El porcentaje de revenue que representa el chinito es de: 11.54%\n",
      "El porcentaje de revenue que representa el ubiquo es de: 10.73%\n"
     ]
    }
   ],
   "source": [
    "pinche = round(7107900/598848, 2)\n",
    "chinito = round(6913500/598848, 2)\n",
    "ubiq = round(6425000/598848, 2)\n",
    "\n",
    "print(\"El porcentaje de revenue que representa el pinche es de: \" + str(pinche) + \"%\")\n",
    "print(\"El porcentaje de revenue que representa el chinito es de: \" + str(chinito) + \"%\")\n",
    "print(\"El porcentaje de revenue que representa el ubiquo es de: \" + str(ubiq) + \"%\")"
   ]
  },
  {
   "cell_type": "markdown",
   "metadata": {},
   "source": [
    "### Determinar quienes son los mejores pilotos"
   ]
  },
  {
   "cell_type": "code",
   "execution_count": 106,
   "metadata": {},
   "outputs": [
    {
     "data": {
      "text/plain": [
       "Fernando Mariano Berrio          267\n",
       "Pedro Alvarez Parejo             253\n",
       "Hector Aragones Frutos           248\n",
       "Felipe Villatoro                 247\n",
       "Luis Jaime Urbano                246\n",
       "Ismael Rodero Monteagudo         244\n",
       "Angel Valdez Alegria             235\n",
       "Hector Giron                     228\n",
       "Juan Francisco Portillo Gomez    212\n",
       "Name: PILOTO, dtype: int64"
      ]
     },
     "execution_count": 106,
     "metadata": {},
     "output_type": "execute_result"
    }
   ],
   "source": [
    "data.PILOTO.value_counts()"
   ]
  },
  {
   "cell_type": "markdown",
   "metadata": {},
   "source": [
    "El piloto con más viajes es Fernando Berrio, con 267 viajes."
   ]
  },
  {
   "cell_type": "markdown",
   "metadata": {},
   "source": [
    "### Segmentar por meses"
   ]
  },
  {
   "cell_type": "code",
   "execution_count": 107,
   "metadata": {},
   "outputs": [],
   "source": [
    "Enero = data.loc[data['MES'] == 1]\n",
    "Febrero = data.loc[data['MES'] == 2]\n",
    "Marzo = data.loc[data['MES'] == 3]\n",
    "Abril = data.loc[data['MES'] == 4]\n",
    "Mayo = data.loc[data['MES'] == 5]\n",
    "Junio = data.loc[data['MES'] == 6]\n",
    "Julio = data.loc[data['MES'] == 7]\n",
    "Agosto = data.loc[data['MES'] == 8]\n",
    "Septiembre = data.loc[data['MES'] == 9]\n",
    "Octubre = data.loc[data['MES'] == 10]\n",
    "Noviembre = data.loc[data['MES'] == 11]\n",
    "Diciembre = data.loc[data['MES'] == 12]"
   ]
  },
  {
   "cell_type": "code",
   "execution_count": 108,
   "metadata": {},
   "outputs": [
    {
     "name": "stdout",
     "output_type": "stream",
     "text": [
      "Viajes en Enero: 192\n",
      "Viajes en Febrero: 203\n",
      "Viajes en Marzo: 182\n",
      "Viajes en Abril: 196\n",
      "Viajes en Mayo: 215\n",
      "Viajes en Junio: 197\n",
      "Viajes en Julio: 211\n",
      "Viajes en Agosto: 199\n",
      "Viajes en Septiembre: 188\n",
      "Viajes en Octubre: 200\n",
      "Viajes en Noviembre: 197\n",
      "Viajes en Diciembre: 0\n"
     ]
    }
   ],
   "source": [
    "print(\"Viajes en Enero: \" + str(len(Enero)))\n",
    "print(\"Viajes en Febrero: \" + str(len(Febrero)))\n",
    "print(\"Viajes en Marzo: \"  + str(len(Marzo)))\n",
    "print(\"Viajes en Abril: \" + str(len(Abril)))\n",
    "print(\"Viajes en Mayo: \" + str(len(Mayo)))\n",
    "print(\"Viajes en Junio: \" + str(len(Junio)))\n",
    "print(\"Viajes en Julio: \" + str(len(Julio)))\n",
    "print(\"Viajes en Agosto: \" + str(len(Agosto)))\n",
    "print(\"Viajes en Septiembre: \" + str(len(Septiembre)))\n",
    "print(\"Viajes en Octubre: \" + str(len(Octubre)))\n",
    "print(\"Viajes en Noviembre: \" + str(len(Noviembre)))\n",
    "print(\"Viajes en Diciembre: \" + str(len(Diciembre)))"
   ]
  },
  {
   "cell_type": "markdown",
   "metadata": {},
   "source": [
    "### Determinar si los pilotos nos están robando"
   ]
  },
  {
   "cell_type": "code",
   "execution_count": 185,
   "metadata": {},
   "outputs": [
    {
     "name": "stdout",
     "output_type": "stream",
     "text": [
      "Total de Revenue: Q598848.25\n",
      "Total de Paquetes: 2395393\n",
      "Precio individual: Q0.25\n"
     ]
    }
   ],
   "source": [
    "TotalRevenue = data[\"INGRESO\"].sum()\n",
    "TotalPaquetes = data[\"CANTIDAD\"].sum()\n",
    "\n",
    "print(\"Total de Revenue: Q\" + str(TotalRevenue))\n",
    "print(\"Total de Paquetes: \" + str(TotalPaquetes))\n",
    "\n",
    "PrecioIndividual = TotalRevenue/TotalPaquetes\n",
    "\n",
    "print(\"Precio individual: Q\" + str(PrecioIndividual))"
   ]
  },
  {
   "cell_type": "markdown",
   "metadata": {},
   "source": [
    "Sabemos que el precio de cada paquete es de 25 centavos, por lo que podemos determinar que, dado que la cantidad de paquetes multiplicado por 0.25, da exactamente nuestro revenue total, no nos han robado."
   ]
  },
  {
   "cell_type": "code",
   "execution_count": null,
   "metadata": {},
   "outputs": [],
   "source": []
  }
 ],
 "metadata": {
  "kernelspec": {
   "display_name": "Python 3",
   "language": "python",
   "name": "python3"
  },
  "language_info": {
   "codemirror_mode": {
    "name": "ipython",
    "version": 3
   },
   "file_extension": ".py",
   "mimetype": "text/x-python",
   "name": "python",
   "nbconvert_exporter": "python",
   "pygments_lexer": "ipython3",
   "version": "3.8.3"
  }
 },
 "nbformat": 4,
 "nbformat_minor": 4
}
