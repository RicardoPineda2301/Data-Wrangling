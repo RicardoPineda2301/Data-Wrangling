{
 "metadata": {
  "language_info": {
   "codemirror_mode": {
    "name": "ipython",
    "version": 3
   },
   "file_extension": ".py",
   "mimetype": "text/x-python",
   "name": "python",
   "nbconvert_exporter": "python",
   "pygments_lexer": "ipython3",
   "version": "3.7.6-final"
  },
  "orig_nbformat": 2,
  "kernelspec": {
   "name": "python3",
   "display_name": "Python 3"
  }
 },
 "nbformat": 4,
 "nbformat_minor": 2,
 "cells": [
  {
   "cell_type": "code",
   "execution_count": 9,
   "metadata": {},
   "outputs": [
    {
     "output_type": "stream",
     "name": "stdout",
     "text": [
      "Done\n"
     ]
    }
   ],
   "source": [
    "import pandas as pd\n",
    "import re\n",
    "import nltk\n",
    "from nltk.sentiment.vader import SentimentIntensityAnalyzer\n",
    "\n",
    "print('Done')"
   ]
  },
  {
   "cell_type": "code",
   "execution_count": 2,
   "metadata": {},
   "outputs": [
    {
     "output_type": "execute_result",
     "data": {
      "text/plain": [
       "5757"
      ]
     },
     "metadata": {},
     "execution_count": 2
    }
   ],
   "source": [
    "democrats = pd.read_csv('democrats.csv')\n",
    "len(democrats)"
   ]
  },
  {
   "cell_type": "code",
   "execution_count": 3,
   "metadata": {},
   "outputs": [
    {
     "output_type": "execute_result",
     "data": {
      "text/plain": [
       "                                                text  favorited  \\\n",
       "0  For fucks sake #Democrats get off your fucking...      False   \n",
       "1  If you can’t see that a political party will d...      False   \n",
       "2  @nytimes we should Make #WORLD FREE FROM  #Glo...      False   \n",
       "3  #Democrats know what’s going on.... https://t....      False   \n",
       "4  IS THE DEMOCRATIC PARTY STARTING TO CRACK?\\n#c...      False   \n",
       "\n",
       "   favoriteCount replyToSN               created  truncated    replyToSID  \\\n",
       "0              0       NaN  2020-11-19T19:59:15Z      False           NaN   \n",
       "1              0       NaN  2020-11-19T19:58:23Z       True           NaN   \n",
       "2              0   nytimes  2020-11-19T19:58:20Z       True  1.328834e+18   \n",
       "3              0       NaN  2020-11-19T19:57:28Z      False           NaN   \n",
       "4              0       NaN  2020-11-19T19:56:56Z       True           NaN   \n",
       "\n",
       "                    id  replyToUID  \\\n",
       "0  1329514596344999936         NaN   \n",
       "1  1329514378379612162         NaN   \n",
       "2  1329514365217812493    807095.0   \n",
       "3  1329514147512369154         NaN   \n",
       "4  1329514011340189698         NaN   \n",
       "\n",
       "                                        statusSource   screenName  \\\n",
       "0  <a href=\"https://mobile.twitter.com\" rel=\"nofo...  MP4Humanity   \n",
       "1  <a href=\"http://twitter.com/download/iphone\" r...    Mudder111   \n",
       "2  <a href=\"https://mobile.twitter.com\" rel=\"nofo...    yyoo11122   \n",
       "3  <a href=\"http://twitter.com/download/iphone\" r...     jbaumgar   \n",
       "4  <a href=\"http://twitter.com/download/iphone\" r...   VEMVintage   \n",
       "\n",
       "   retweetCount  isRetweet  retweeted  longitude  latitude  \n",
       "0             0      False      False        NaN       NaN  \n",
       "1             0      False      False        NaN       NaN  \n",
       "2             0      False      False        NaN       NaN  \n",
       "3             0      False      False        NaN       NaN  \n",
       "4             0      False      False        NaN       NaN  "
      ],
      "text/html": "<div>\n<style scoped>\n    .dataframe tbody tr th:only-of-type {\n        vertical-align: middle;\n    }\n\n    .dataframe tbody tr th {\n        vertical-align: top;\n    }\n\n    .dataframe thead th {\n        text-align: right;\n    }\n</style>\n<table border=\"1\" class=\"dataframe\">\n  <thead>\n    <tr style=\"text-align: right;\">\n      <th></th>\n      <th>text</th>\n      <th>favorited</th>\n      <th>favoriteCount</th>\n      <th>replyToSN</th>\n      <th>created</th>\n      <th>truncated</th>\n      <th>replyToSID</th>\n      <th>id</th>\n      <th>replyToUID</th>\n      <th>statusSource</th>\n      <th>screenName</th>\n      <th>retweetCount</th>\n      <th>isRetweet</th>\n      <th>retweeted</th>\n      <th>longitude</th>\n      <th>latitude</th>\n    </tr>\n  </thead>\n  <tbody>\n    <tr>\n      <th>0</th>\n      <td>For fucks sake #Democrats get off your fucking...</td>\n      <td>False</td>\n      <td>0</td>\n      <td>NaN</td>\n      <td>2020-11-19T19:59:15Z</td>\n      <td>False</td>\n      <td>NaN</td>\n      <td>1329514596344999936</td>\n      <td>NaN</td>\n      <td>&lt;a href=\"https://mobile.twitter.com\" rel=\"nofo...</td>\n      <td>MP4Humanity</td>\n      <td>0</td>\n      <td>False</td>\n      <td>False</td>\n      <td>NaN</td>\n      <td>NaN</td>\n    </tr>\n    <tr>\n      <th>1</th>\n      <td>If you can’t see that a political party will d...</td>\n      <td>False</td>\n      <td>0</td>\n      <td>NaN</td>\n      <td>2020-11-19T19:58:23Z</td>\n      <td>True</td>\n      <td>NaN</td>\n      <td>1329514378379612162</td>\n      <td>NaN</td>\n      <td>&lt;a href=\"http://twitter.com/download/iphone\" r...</td>\n      <td>Mudder111</td>\n      <td>0</td>\n      <td>False</td>\n      <td>False</td>\n      <td>NaN</td>\n      <td>NaN</td>\n    </tr>\n    <tr>\n      <th>2</th>\n      <td>@nytimes we should Make #WORLD FREE FROM  #Glo...</td>\n      <td>False</td>\n      <td>0</td>\n      <td>nytimes</td>\n      <td>2020-11-19T19:58:20Z</td>\n      <td>True</td>\n      <td>1.328834e+18</td>\n      <td>1329514365217812493</td>\n      <td>807095.0</td>\n      <td>&lt;a href=\"https://mobile.twitter.com\" rel=\"nofo...</td>\n      <td>yyoo11122</td>\n      <td>0</td>\n      <td>False</td>\n      <td>False</td>\n      <td>NaN</td>\n      <td>NaN</td>\n    </tr>\n    <tr>\n      <th>3</th>\n      <td>#Democrats know what’s going on.... https://t....</td>\n      <td>False</td>\n      <td>0</td>\n      <td>NaN</td>\n      <td>2020-11-19T19:57:28Z</td>\n      <td>False</td>\n      <td>NaN</td>\n      <td>1329514147512369154</td>\n      <td>NaN</td>\n      <td>&lt;a href=\"http://twitter.com/download/iphone\" r...</td>\n      <td>jbaumgar</td>\n      <td>0</td>\n      <td>False</td>\n      <td>False</td>\n      <td>NaN</td>\n      <td>NaN</td>\n    </tr>\n    <tr>\n      <th>4</th>\n      <td>IS THE DEMOCRATIC PARTY STARTING TO CRACK?\\n#c...</td>\n      <td>False</td>\n      <td>0</td>\n      <td>NaN</td>\n      <td>2020-11-19T19:56:56Z</td>\n      <td>True</td>\n      <td>NaN</td>\n      <td>1329514011340189698</td>\n      <td>NaN</td>\n      <td>&lt;a href=\"http://twitter.com/download/iphone\" r...</td>\n      <td>VEMVintage</td>\n      <td>0</td>\n      <td>False</td>\n      <td>False</td>\n      <td>NaN</td>\n      <td>NaN</td>\n    </tr>\n  </tbody>\n</table>\n</div>"
     },
     "metadata": {},
     "execution_count": 3
    }
   ],
   "source": [
    "democrats.head()"
   ]
  },
  {
   "cell_type": "code",
   "execution_count": 4,
   "metadata": {},
   "outputs": [
    {
     "output_type": "execute_result",
     "data": {
      "text/plain": [
       "10000"
      ]
     },
     "metadata": {},
     "execution_count": 4
    }
   ],
   "source": [
    "republicans = pd.read_csv('republicans.csv')\n",
    "len(republicans)"
   ]
  },
  {
   "cell_type": "code",
   "execution_count": 5,
   "metadata": {},
   "outputs": [
    {
     "output_type": "execute_result",
     "data": {
      "text/plain": [
       "                                                text  favorited  \\\n",
       "0  @GaryPeters @BrendaLLawrence @SenStabenow @Deb...      False   \n",
       "1  As always, \"it's the economy stupid\". Although...      False   \n",
       "2  @JudiciaryGOP @Jim_Jordan @RepJamesComer But w...      False   \n",
       "3  @Meidas_KatiePB1 @OutOfFucksQueen #Republicans...      False   \n",
       "4  RT @LeslieMarshall: I want every #Democrat in ...      False   \n",
       "\n",
       "   favoriteCount        replyToSN               created  truncated  \\\n",
       "0              0       GaryPeters  2020-11-20T01:45:32Z       True   \n",
       "1              0              NaN  2020-11-20T01:44:58Z       True   \n",
       "2              0     JudiciaryGOP  2020-11-20T01:44:55Z       True   \n",
       "3              0  Meidas_KatiePB1  2020-11-20T01:44:53Z      False   \n",
       "4              0              NaN  2020-11-20T01:44:19Z      False   \n",
       "\n",
       "     replyToSID                   id    replyToUID  \\\n",
       "0           NaN  1329601739650117632  1.452929e+08   \n",
       "1           NaN  1329601598700486656           NaN   \n",
       "2  1.329249e+18  1329601583907278853  1.131917e+09   \n",
       "3  1.329584e+18  1329601577754251265  1.267472e+18   \n",
       "4           NaN  1329601435282116610           NaN   \n",
       "\n",
       "                                        statusSource       screenName  \\\n",
       "0  <a href=\"http://twitter.com/#!/download/ipad\" ...           LizJ99   \n",
       "1  <a href=\"https://mobile.twitter.com\" rel=\"nofo...           jwsapp   \n",
       "2  <a href=\"http://twitter.com/download/iphone\" r...    jlopiccoloesq   \n",
       "3  <a href=\"https://mobile.twitter.com\" rel=\"nofo...      lindellgirl   \n",
       "4  <a href=\"http://twitter.com/download/android\" ...  RooseveltBarfi1   \n",
       "\n",
       "   retweetCount  isRetweet  retweeted  longitude  latitude  \n",
       "0             0      False      False        NaN       NaN  \n",
       "1             0      False      False        NaN       NaN  \n",
       "2             0      False      False        NaN       NaN  \n",
       "3             0      False      False        NaN       NaN  \n",
       "4           268       True      False        NaN       NaN  "
      ],
      "text/html": "<div>\n<style scoped>\n    .dataframe tbody tr th:only-of-type {\n        vertical-align: middle;\n    }\n\n    .dataframe tbody tr th {\n        vertical-align: top;\n    }\n\n    .dataframe thead th {\n        text-align: right;\n    }\n</style>\n<table border=\"1\" class=\"dataframe\">\n  <thead>\n    <tr style=\"text-align: right;\">\n      <th></th>\n      <th>text</th>\n      <th>favorited</th>\n      <th>favoriteCount</th>\n      <th>replyToSN</th>\n      <th>created</th>\n      <th>truncated</th>\n      <th>replyToSID</th>\n      <th>id</th>\n      <th>replyToUID</th>\n      <th>statusSource</th>\n      <th>screenName</th>\n      <th>retweetCount</th>\n      <th>isRetweet</th>\n      <th>retweeted</th>\n      <th>longitude</th>\n      <th>latitude</th>\n    </tr>\n  </thead>\n  <tbody>\n    <tr>\n      <th>0</th>\n      <td>@GaryPeters @BrendaLLawrence @SenStabenow @Deb...</td>\n      <td>False</td>\n      <td>0</td>\n      <td>GaryPeters</td>\n      <td>2020-11-20T01:45:32Z</td>\n      <td>True</td>\n      <td>NaN</td>\n      <td>1329601739650117632</td>\n      <td>1.452929e+08</td>\n      <td>&lt;a href=\"http://twitter.com/#!/download/ipad\" ...</td>\n      <td>LizJ99</td>\n      <td>0</td>\n      <td>False</td>\n      <td>False</td>\n      <td>NaN</td>\n      <td>NaN</td>\n    </tr>\n    <tr>\n      <th>1</th>\n      <td>As always, \"it's the economy stupid\". Although...</td>\n      <td>False</td>\n      <td>0</td>\n      <td>NaN</td>\n      <td>2020-11-20T01:44:58Z</td>\n      <td>True</td>\n      <td>NaN</td>\n      <td>1329601598700486656</td>\n      <td>NaN</td>\n      <td>&lt;a href=\"https://mobile.twitter.com\" rel=\"nofo...</td>\n      <td>jwsapp</td>\n      <td>0</td>\n      <td>False</td>\n      <td>False</td>\n      <td>NaN</td>\n      <td>NaN</td>\n    </tr>\n    <tr>\n      <th>2</th>\n      <td>@JudiciaryGOP @Jim_Jordan @RepJamesComer But w...</td>\n      <td>False</td>\n      <td>0</td>\n      <td>JudiciaryGOP</td>\n      <td>2020-11-20T01:44:55Z</td>\n      <td>True</td>\n      <td>1.329249e+18</td>\n      <td>1329601583907278853</td>\n      <td>1.131917e+09</td>\n      <td>&lt;a href=\"http://twitter.com/download/iphone\" r...</td>\n      <td>jlopiccoloesq</td>\n      <td>0</td>\n      <td>False</td>\n      <td>False</td>\n      <td>NaN</td>\n      <td>NaN</td>\n    </tr>\n    <tr>\n      <th>3</th>\n      <td>@Meidas_KatiePB1 @OutOfFucksQueen #Republicans...</td>\n      <td>False</td>\n      <td>0</td>\n      <td>Meidas_KatiePB1</td>\n      <td>2020-11-20T01:44:53Z</td>\n      <td>False</td>\n      <td>1.329584e+18</td>\n      <td>1329601577754251265</td>\n      <td>1.267472e+18</td>\n      <td>&lt;a href=\"https://mobile.twitter.com\" rel=\"nofo...</td>\n      <td>lindellgirl</td>\n      <td>0</td>\n      <td>False</td>\n      <td>False</td>\n      <td>NaN</td>\n      <td>NaN</td>\n    </tr>\n    <tr>\n      <th>4</th>\n      <td>RT @LeslieMarshall: I want every #Democrat in ...</td>\n      <td>False</td>\n      <td>0</td>\n      <td>NaN</td>\n      <td>2020-11-20T01:44:19Z</td>\n      <td>False</td>\n      <td>NaN</td>\n      <td>1329601435282116610</td>\n      <td>NaN</td>\n      <td>&lt;a href=\"http://twitter.com/download/android\" ...</td>\n      <td>RooseveltBarfi1</td>\n      <td>268</td>\n      <td>True</td>\n      <td>False</td>\n      <td>NaN</td>\n      <td>NaN</td>\n    </tr>\n  </tbody>\n</table>\n</div>"
     },
     "metadata": {},
     "execution_count": 5
    }
   ],
   "source": [
    "republicans.head()"
   ]
  },
  {
   "cell_type": "code",
   "execution_count": 6,
   "metadata": {},
   "outputs": [],
   "source": [
    "def limpieza(text):\n",
    "    text = re.sub(\"RT @[\\w]*:\",\"\",text)\n",
    "    text = re.sub(\"@[\\w]*\",\"\",text)\n",
    "    text = re.sub(\"https?://[A-Za-z0-9./]*\",\"\",text)\n",
    "    text = re.sub(\"\\n\",\"\",text)\n",
    "    return text"
   ]
  },
  {
   "cell_type": "code",
   "execution_count": 7,
   "metadata": {},
   "outputs": [
    {
     "output_type": "execute_result",
     "data": {
      "text/plain": [
       "                                                text  favorited  \\\n",
       "0  For fucks sake #Democrats get off your fucking...      False   \n",
       "1  If you can’t see that a political party will d...      False   \n",
       "2   we should Make #WORLD FREE FROM  #Globalists ...      False   \n",
       "3               #Democrats know what’s going on....       False   \n",
       "4  IS THE DEMOCRATIC PARTY STARTING TO CRACK?#che...      False   \n",
       "\n",
       "   favoriteCount replyToSN               created  truncated    replyToSID  \\\n",
       "0              0       NaN  2020-11-19T19:59:15Z      False           NaN   \n",
       "1              0       NaN  2020-11-19T19:58:23Z       True           NaN   \n",
       "2              0   nytimes  2020-11-19T19:58:20Z       True  1.328834e+18   \n",
       "3              0       NaN  2020-11-19T19:57:28Z      False           NaN   \n",
       "4              0       NaN  2020-11-19T19:56:56Z       True           NaN   \n",
       "\n",
       "                    id  replyToUID  \\\n",
       "0  1329514596344999936         NaN   \n",
       "1  1329514378379612162         NaN   \n",
       "2  1329514365217812493    807095.0   \n",
       "3  1329514147512369154         NaN   \n",
       "4  1329514011340189698         NaN   \n",
       "\n",
       "                                        statusSource   screenName  \\\n",
       "0  <a href=\"https://mobile.twitter.com\" rel=\"nofo...  MP4Humanity   \n",
       "1  <a href=\"http://twitter.com/download/iphone\" r...    Mudder111   \n",
       "2  <a href=\"https://mobile.twitter.com\" rel=\"nofo...    yyoo11122   \n",
       "3  <a href=\"http://twitter.com/download/iphone\" r...     jbaumgar   \n",
       "4  <a href=\"http://twitter.com/download/iphone\" r...   VEMVintage   \n",
       "\n",
       "   retweetCount  isRetweet  retweeted  longitude  latitude       rama  \n",
       "0             0      False      False        NaN       NaN  democrats  \n",
       "1             0      False      False        NaN       NaN  democrats  \n",
       "2             0      False      False        NaN       NaN  democrats  \n",
       "3             0      False      False        NaN       NaN  democrats  \n",
       "4             0      False      False        NaN       NaN  democrats  "
      ],
      "text/html": "<div>\n<style scoped>\n    .dataframe tbody tr th:only-of-type {\n        vertical-align: middle;\n    }\n\n    .dataframe tbody tr th {\n        vertical-align: top;\n    }\n\n    .dataframe thead th {\n        text-align: right;\n    }\n</style>\n<table border=\"1\" class=\"dataframe\">\n  <thead>\n    <tr style=\"text-align: right;\">\n      <th></th>\n      <th>text</th>\n      <th>favorited</th>\n      <th>favoriteCount</th>\n      <th>replyToSN</th>\n      <th>created</th>\n      <th>truncated</th>\n      <th>replyToSID</th>\n      <th>id</th>\n      <th>replyToUID</th>\n      <th>statusSource</th>\n      <th>screenName</th>\n      <th>retweetCount</th>\n      <th>isRetweet</th>\n      <th>retweeted</th>\n      <th>longitude</th>\n      <th>latitude</th>\n      <th>rama</th>\n    </tr>\n  </thead>\n  <tbody>\n    <tr>\n      <th>0</th>\n      <td>For fucks sake #Democrats get off your fucking...</td>\n      <td>False</td>\n      <td>0</td>\n      <td>NaN</td>\n      <td>2020-11-19T19:59:15Z</td>\n      <td>False</td>\n      <td>NaN</td>\n      <td>1329514596344999936</td>\n      <td>NaN</td>\n      <td>&lt;a href=\"https://mobile.twitter.com\" rel=\"nofo...</td>\n      <td>MP4Humanity</td>\n      <td>0</td>\n      <td>False</td>\n      <td>False</td>\n      <td>NaN</td>\n      <td>NaN</td>\n      <td>democrats</td>\n    </tr>\n    <tr>\n      <th>1</th>\n      <td>If you can’t see that a political party will d...</td>\n      <td>False</td>\n      <td>0</td>\n      <td>NaN</td>\n      <td>2020-11-19T19:58:23Z</td>\n      <td>True</td>\n      <td>NaN</td>\n      <td>1329514378379612162</td>\n      <td>NaN</td>\n      <td>&lt;a href=\"http://twitter.com/download/iphone\" r...</td>\n      <td>Mudder111</td>\n      <td>0</td>\n      <td>False</td>\n      <td>False</td>\n      <td>NaN</td>\n      <td>NaN</td>\n      <td>democrats</td>\n    </tr>\n    <tr>\n      <th>2</th>\n      <td>we should Make #WORLD FREE FROM  #Globalists ...</td>\n      <td>False</td>\n      <td>0</td>\n      <td>nytimes</td>\n      <td>2020-11-19T19:58:20Z</td>\n      <td>True</td>\n      <td>1.328834e+18</td>\n      <td>1329514365217812493</td>\n      <td>807095.0</td>\n      <td>&lt;a href=\"https://mobile.twitter.com\" rel=\"nofo...</td>\n      <td>yyoo11122</td>\n      <td>0</td>\n      <td>False</td>\n      <td>False</td>\n      <td>NaN</td>\n      <td>NaN</td>\n      <td>democrats</td>\n    </tr>\n    <tr>\n      <th>3</th>\n      <td>#Democrats know what’s going on....</td>\n      <td>False</td>\n      <td>0</td>\n      <td>NaN</td>\n      <td>2020-11-19T19:57:28Z</td>\n      <td>False</td>\n      <td>NaN</td>\n      <td>1329514147512369154</td>\n      <td>NaN</td>\n      <td>&lt;a href=\"http://twitter.com/download/iphone\" r...</td>\n      <td>jbaumgar</td>\n      <td>0</td>\n      <td>False</td>\n      <td>False</td>\n      <td>NaN</td>\n      <td>NaN</td>\n      <td>democrats</td>\n    </tr>\n    <tr>\n      <th>4</th>\n      <td>IS THE DEMOCRATIC PARTY STARTING TO CRACK?#che...</td>\n      <td>False</td>\n      <td>0</td>\n      <td>NaN</td>\n      <td>2020-11-19T19:56:56Z</td>\n      <td>True</td>\n      <td>NaN</td>\n      <td>1329514011340189698</td>\n      <td>NaN</td>\n      <td>&lt;a href=\"http://twitter.com/download/iphone\" r...</td>\n      <td>VEMVintage</td>\n      <td>0</td>\n      <td>False</td>\n      <td>False</td>\n      <td>NaN</td>\n      <td>NaN</td>\n      <td>democrats</td>\n    </tr>\n  </tbody>\n</table>\n</div>"
     },
     "metadata": {},
     "execution_count": 7
    }
   ],
   "source": [
    "democrats.text = democrats.text.apply(lambda x: limpieza(x))\n",
    "democrats['rama'] = 'democrats'\n",
    "democrats.head()"
   ]
  },
  {
   "cell_type": "code",
   "execution_count": 8,
   "metadata": {},
   "outputs": [
    {
     "output_type": "execute_result",
     "data": {
      "text/plain": [
       "                                                text  favorited  \\\n",
       "0      why are all of you so silent on the #Repub...      False   \n",
       "1  As always, \"it's the economy stupid\". Although...      False   \n",
       "2     But what about those calls not to investiga...      False   \n",
       "3    #Republicans stole #Thanksgiving &amp; #Chri...      False   \n",
       "4   I want every #Democrat in every state in 2022...      False   \n",
       "\n",
       "   favoriteCount        replyToSN               created  truncated  \\\n",
       "0              0       GaryPeters  2020-11-20T01:45:32Z       True   \n",
       "1              0              NaN  2020-11-20T01:44:58Z       True   \n",
       "2              0     JudiciaryGOP  2020-11-20T01:44:55Z       True   \n",
       "3              0  Meidas_KatiePB1  2020-11-20T01:44:53Z      False   \n",
       "4              0              NaN  2020-11-20T01:44:19Z      False   \n",
       "\n",
       "     replyToSID                   id    replyToUID  \\\n",
       "0           NaN  1329601739650117632  1.452929e+08   \n",
       "1           NaN  1329601598700486656           NaN   \n",
       "2  1.329249e+18  1329601583907278853  1.131917e+09   \n",
       "3  1.329584e+18  1329601577754251265  1.267472e+18   \n",
       "4           NaN  1329601435282116610           NaN   \n",
       "\n",
       "                                        statusSource       screenName  \\\n",
       "0  <a href=\"http://twitter.com/#!/download/ipad\" ...           LizJ99   \n",
       "1  <a href=\"https://mobile.twitter.com\" rel=\"nofo...           jwsapp   \n",
       "2  <a href=\"http://twitter.com/download/iphone\" r...    jlopiccoloesq   \n",
       "3  <a href=\"https://mobile.twitter.com\" rel=\"nofo...      lindellgirl   \n",
       "4  <a href=\"http://twitter.com/download/android\" ...  RooseveltBarfi1   \n",
       "\n",
       "   retweetCount  isRetweet  retweeted  longitude  latitude         rama  \n",
       "0             0      False      False        NaN       NaN  republicans  \n",
       "1             0      False      False        NaN       NaN  republicans  \n",
       "2             0      False      False        NaN       NaN  republicans  \n",
       "3             0      False      False        NaN       NaN  republicans  \n",
       "4           268       True      False        NaN       NaN  republicans  "
      ],
      "text/html": "<div>\n<style scoped>\n    .dataframe tbody tr th:only-of-type {\n        vertical-align: middle;\n    }\n\n    .dataframe tbody tr th {\n        vertical-align: top;\n    }\n\n    .dataframe thead th {\n        text-align: right;\n    }\n</style>\n<table border=\"1\" class=\"dataframe\">\n  <thead>\n    <tr style=\"text-align: right;\">\n      <th></th>\n      <th>text</th>\n      <th>favorited</th>\n      <th>favoriteCount</th>\n      <th>replyToSN</th>\n      <th>created</th>\n      <th>truncated</th>\n      <th>replyToSID</th>\n      <th>id</th>\n      <th>replyToUID</th>\n      <th>statusSource</th>\n      <th>screenName</th>\n      <th>retweetCount</th>\n      <th>isRetweet</th>\n      <th>retweeted</th>\n      <th>longitude</th>\n      <th>latitude</th>\n      <th>rama</th>\n    </tr>\n  </thead>\n  <tbody>\n    <tr>\n      <th>0</th>\n      <td>why are all of you so silent on the #Repub...</td>\n      <td>False</td>\n      <td>0</td>\n      <td>GaryPeters</td>\n      <td>2020-11-20T01:45:32Z</td>\n      <td>True</td>\n      <td>NaN</td>\n      <td>1329601739650117632</td>\n      <td>1.452929e+08</td>\n      <td>&lt;a href=\"http://twitter.com/#!/download/ipad\" ...</td>\n      <td>LizJ99</td>\n      <td>0</td>\n      <td>False</td>\n      <td>False</td>\n      <td>NaN</td>\n      <td>NaN</td>\n      <td>republicans</td>\n    </tr>\n    <tr>\n      <th>1</th>\n      <td>As always, \"it's the economy stupid\". Although...</td>\n      <td>False</td>\n      <td>0</td>\n      <td>NaN</td>\n      <td>2020-11-20T01:44:58Z</td>\n      <td>True</td>\n      <td>NaN</td>\n      <td>1329601598700486656</td>\n      <td>NaN</td>\n      <td>&lt;a href=\"https://mobile.twitter.com\" rel=\"nofo...</td>\n      <td>jwsapp</td>\n      <td>0</td>\n      <td>False</td>\n      <td>False</td>\n      <td>NaN</td>\n      <td>NaN</td>\n      <td>republicans</td>\n    </tr>\n    <tr>\n      <th>2</th>\n      <td>But what about those calls not to investiga...</td>\n      <td>False</td>\n      <td>0</td>\n      <td>JudiciaryGOP</td>\n      <td>2020-11-20T01:44:55Z</td>\n      <td>True</td>\n      <td>1.329249e+18</td>\n      <td>1329601583907278853</td>\n      <td>1.131917e+09</td>\n      <td>&lt;a href=\"http://twitter.com/download/iphone\" r...</td>\n      <td>jlopiccoloesq</td>\n      <td>0</td>\n      <td>False</td>\n      <td>False</td>\n      <td>NaN</td>\n      <td>NaN</td>\n      <td>republicans</td>\n    </tr>\n    <tr>\n      <th>3</th>\n      <td>#Republicans stole #Thanksgiving &amp;amp; #Chri...</td>\n      <td>False</td>\n      <td>0</td>\n      <td>Meidas_KatiePB1</td>\n      <td>2020-11-20T01:44:53Z</td>\n      <td>False</td>\n      <td>1.329584e+18</td>\n      <td>1329601577754251265</td>\n      <td>1.267472e+18</td>\n      <td>&lt;a href=\"https://mobile.twitter.com\" rel=\"nofo...</td>\n      <td>lindellgirl</td>\n      <td>0</td>\n      <td>False</td>\n      <td>False</td>\n      <td>NaN</td>\n      <td>NaN</td>\n      <td>republicans</td>\n    </tr>\n    <tr>\n      <th>4</th>\n      <td>I want every #Democrat in every state in 2022...</td>\n      <td>False</td>\n      <td>0</td>\n      <td>NaN</td>\n      <td>2020-11-20T01:44:19Z</td>\n      <td>False</td>\n      <td>NaN</td>\n      <td>1329601435282116610</td>\n      <td>NaN</td>\n      <td>&lt;a href=\"http://twitter.com/download/android\" ...</td>\n      <td>RooseveltBarfi1</td>\n      <td>268</td>\n      <td>True</td>\n      <td>False</td>\n      <td>NaN</td>\n      <td>NaN</td>\n      <td>republicans</td>\n    </tr>\n  </tbody>\n</table>\n</div>"
     },
     "metadata": {},
     "execution_count": 8
    }
   ],
   "source": [
    "republicans.text = republicans.text.apply(lambda x: limpieza(x))\n",
    "republicans['rama'] = 'republicans'\n",
    "republicans.head()"
   ]
  },
  {
   "cell_type": "code",
   "execution_count": 10,
   "metadata": {},
   "outputs": [
    {
     "output_type": "stream",
     "name": "stderr",
     "text": [
      "[nltk_data] Downloading package vader_lexicon to C:\\Users\\Arq. Marco\n[nltk_data]     Castillo\\AppData\\Roaming\\nltk_data...\n[nltk_data]   Package vader_lexicon is already up-to-date!\n"
     ]
    }
   ],
   "source": [
    "nltk.download('vader_lexicon')\n",
    "sid = SentimentIntensityAnalyzer()"
   ]
  },
  {
   "cell_type": "code",
   "execution_count": 13,
   "metadata": {},
   "outputs": [
    {
     "output_type": "error",
     "ename": "IndexError",
     "evalue": "list index out of range",
     "traceback": [
      "\u001b[1;31m---------------------------------------------------------------------------\u001b[0m",
      "\u001b[1;31mIndexError\u001b[0m                                Traceback (most recent call last)",
      "\u001b[1;32m<ipython-input-13-865a9107a353>\u001b[0m in \u001b[0;36m<module>\u001b[1;34m\u001b[0m\n\u001b[0;32m      1\u001b[0m \u001b[0mdf\u001b[0m \u001b[1;33m=\u001b[0m \u001b[0mpd\u001b[0m\u001b[1;33m.\u001b[0m\u001b[0mmerge\u001b[0m\u001b[1;33m(\u001b[0m\u001b[0mrepublicans\u001b[0m\u001b[1;33m.\u001b[0m\u001b[0mrama\u001b[0m\u001b[1;33m.\u001b[0m\u001b[0mvalue_counts\u001b[0m\u001b[1;33m(\u001b[0m\u001b[1;33m)\u001b[0m\u001b[1;33m,\u001b[0m \u001b[0mdemocrats\u001b[0m\u001b[1;33m.\u001b[0m\u001b[0mrama\u001b[0m\u001b[1;33m.\u001b[0m\u001b[0mvalue_counts\u001b[0m\u001b[1;33m(\u001b[0m\u001b[1;33m)\u001b[0m\u001b[1;33m,\u001b[0m \u001b[0mright_index\u001b[0m \u001b[1;33m=\u001b[0m \u001b[1;32mTrue\u001b[0m\u001b[1;33m,\u001b[0m \u001b[0mleft_index\u001b[0m \u001b[1;33m=\u001b[0m \u001b[1;32mTrue\u001b[0m\u001b[1;33m)\u001b[0m\u001b[1;33m\u001b[0m\u001b[1;33m\u001b[0m\u001b[0m\n\u001b[0;32m      2\u001b[0m \u001b[0mdf\u001b[0m \u001b[1;33m=\u001b[0m \u001b[0mdf\u001b[0m\u001b[1;33m.\u001b[0m\u001b[0mrename\u001b[0m\u001b[1;33m(\u001b[0m\u001b[0mcolumns\u001b[0m \u001b[1;33m=\u001b[0m \u001b[1;33m{\u001b[0m\u001b[1;34m\"rama_x\"\u001b[0m\u001b[1;33m:\u001b[0m \u001b[1;34m\"Total Trump Mentions\"\u001b[0m\u001b[1;33m,\u001b[0m \u001b[1;34m\"rama_y\"\u001b[0m\u001b[1;33m:\u001b[0m \u001b[1;34m\"Total Biden Mentions\"\u001b[0m\u001b[1;33m}\u001b[0m\u001b[1;33m)\u001b[0m\u001b[1;33m\u001b[0m\u001b[1;33m\u001b[0m\u001b[0m\n\u001b[1;32m----> 3\u001b[1;33m \u001b[0max\u001b[0m \u001b[1;33m=\u001b[0m \u001b[0mdf\u001b[0m\u001b[1;33m.\u001b[0m\u001b[0mplot\u001b[0m\u001b[1;33m(\u001b[0m\u001b[0mkind\u001b[0m\u001b[1;33m=\u001b[0m\u001b[1;34m'barh'\u001b[0m\u001b[1;33m,\u001b[0m \u001b[0mfigsize\u001b[0m\u001b[1;33m=\u001b[0m\u001b[1;33m(\u001b[0m\u001b[1;36m16\u001b[0m\u001b[1;33m,\u001b[0m \u001b[1;36m25\u001b[0m\u001b[1;33m)\u001b[0m\u001b[1;33m,\u001b[0m \u001b[0mzorder\u001b[0m\u001b[1;33m=\u001b[0m\u001b[1;36m2\u001b[0m\u001b[1;33m)\u001b[0m\u001b[1;33m\u001b[0m\u001b[1;33m\u001b[0m\u001b[0m\n\u001b[0m\u001b[0;32m      4\u001b[0m \u001b[1;33m\u001b[0m\u001b[0m\n\u001b[0;32m      5\u001b[0m \u001b[1;31m# Despine\u001b[0m\u001b[1;33m\u001b[0m\u001b[1;33m\u001b[0m\u001b[1;33m\u001b[0m\u001b[0m\n",
      "\u001b[1;32mC:\\Sebastian\\Anaconda\\Installation\\lib\\site-packages\\pandas\\plotting\\_core.py\u001b[0m in \u001b[0;36m__call__\u001b[1;34m(self, *args, **kwargs)\u001b[0m\n\u001b[0;32m    845\u001b[0m                     \u001b[0mdata\u001b[0m\u001b[1;33m.\u001b[0m\u001b[0mcolumns\u001b[0m \u001b[1;33m=\u001b[0m \u001b[0mlabel_name\u001b[0m\u001b[1;33m\u001b[0m\u001b[1;33m\u001b[0m\u001b[0m\n\u001b[0;32m    846\u001b[0m \u001b[1;33m\u001b[0m\u001b[0m\n\u001b[1;32m--> 847\u001b[1;33m         \u001b[1;32mreturn\u001b[0m \u001b[0mplot_backend\u001b[0m\u001b[1;33m.\u001b[0m\u001b[0mplot\u001b[0m\u001b[1;33m(\u001b[0m\u001b[0mdata\u001b[0m\u001b[1;33m,\u001b[0m \u001b[0mkind\u001b[0m\u001b[1;33m=\u001b[0m\u001b[0mkind\u001b[0m\u001b[1;33m,\u001b[0m \u001b[1;33m**\u001b[0m\u001b[0mkwargs\u001b[0m\u001b[1;33m)\u001b[0m\u001b[1;33m\u001b[0m\u001b[1;33m\u001b[0m\u001b[0m\n\u001b[0m\u001b[0;32m    848\u001b[0m \u001b[1;33m\u001b[0m\u001b[0m\n\u001b[0;32m    849\u001b[0m     \u001b[0m__call__\u001b[0m\u001b[1;33m.\u001b[0m\u001b[0m__doc__\u001b[0m \u001b[1;33m=\u001b[0m \u001b[0m__doc__\u001b[0m\u001b[1;33m\u001b[0m\u001b[1;33m\u001b[0m\u001b[0m\n",
      "\u001b[1;32mC:\\Sebastian\\Anaconda\\Installation\\lib\\site-packages\\pandas\\plotting\\_matplotlib\\__init__.py\u001b[0m in \u001b[0;36mplot\u001b[1;34m(data, kind, **kwargs)\u001b[0m\n\u001b[0;32m     59\u001b[0m             \u001b[0mkwargs\u001b[0m\u001b[1;33m[\u001b[0m\u001b[1;34m\"ax\"\u001b[0m\u001b[1;33m]\u001b[0m \u001b[1;33m=\u001b[0m \u001b[0mgetattr\u001b[0m\u001b[1;33m(\u001b[0m\u001b[0max\u001b[0m\u001b[1;33m,\u001b[0m \u001b[1;34m\"left_ax\"\u001b[0m\u001b[1;33m,\u001b[0m \u001b[0max\u001b[0m\u001b[1;33m)\u001b[0m\u001b[1;33m\u001b[0m\u001b[1;33m\u001b[0m\u001b[0m\n\u001b[0;32m     60\u001b[0m     \u001b[0mplot_obj\u001b[0m \u001b[1;33m=\u001b[0m \u001b[0mPLOT_CLASSES\u001b[0m\u001b[1;33m[\u001b[0m\u001b[0mkind\u001b[0m\u001b[1;33m]\u001b[0m\u001b[1;33m(\u001b[0m\u001b[0mdata\u001b[0m\u001b[1;33m,\u001b[0m \u001b[1;33m**\u001b[0m\u001b[0mkwargs\u001b[0m\u001b[1;33m)\u001b[0m\u001b[1;33m\u001b[0m\u001b[1;33m\u001b[0m\u001b[0m\n\u001b[1;32m---> 61\u001b[1;33m     \u001b[0mplot_obj\u001b[0m\u001b[1;33m.\u001b[0m\u001b[0mgenerate\u001b[0m\u001b[1;33m(\u001b[0m\u001b[1;33m)\u001b[0m\u001b[1;33m\u001b[0m\u001b[1;33m\u001b[0m\u001b[0m\n\u001b[0m\u001b[0;32m     62\u001b[0m     \u001b[0mplot_obj\u001b[0m\u001b[1;33m.\u001b[0m\u001b[0mdraw\u001b[0m\u001b[1;33m(\u001b[0m\u001b[1;33m)\u001b[0m\u001b[1;33m\u001b[0m\u001b[1;33m\u001b[0m\u001b[0m\n\u001b[0;32m     63\u001b[0m     \u001b[1;32mreturn\u001b[0m \u001b[0mplot_obj\u001b[0m\u001b[1;33m.\u001b[0m\u001b[0mresult\u001b[0m\u001b[1;33m\u001b[0m\u001b[1;33m\u001b[0m\u001b[0m\n",
      "\u001b[1;32mC:\\Sebastian\\Anaconda\\Installation\\lib\\site-packages\\pandas\\plotting\\_matplotlib\\core.py\u001b[0m in \u001b[0;36mgenerate\u001b[1;34m(self)\u001b[0m\n\u001b[0;32m    263\u001b[0m         \u001b[0mself\u001b[0m\u001b[1;33m.\u001b[0m\u001b[0m_make_plot\u001b[0m\u001b[1;33m(\u001b[0m\u001b[1;33m)\u001b[0m\u001b[1;33m\u001b[0m\u001b[1;33m\u001b[0m\u001b[0m\n\u001b[0;32m    264\u001b[0m         \u001b[0mself\u001b[0m\u001b[1;33m.\u001b[0m\u001b[0m_add_table\u001b[0m\u001b[1;33m(\u001b[0m\u001b[1;33m)\u001b[0m\u001b[1;33m\u001b[0m\u001b[1;33m\u001b[0m\u001b[0m\n\u001b[1;32m--> 265\u001b[1;33m         \u001b[0mself\u001b[0m\u001b[1;33m.\u001b[0m\u001b[0m_make_legend\u001b[0m\u001b[1;33m(\u001b[0m\u001b[1;33m)\u001b[0m\u001b[1;33m\u001b[0m\u001b[1;33m\u001b[0m\u001b[0m\n\u001b[0m\u001b[0;32m    266\u001b[0m         \u001b[0mself\u001b[0m\u001b[1;33m.\u001b[0m\u001b[0m_adorn_subplots\u001b[0m\u001b[1;33m(\u001b[0m\u001b[1;33m)\u001b[0m\u001b[1;33m\u001b[0m\u001b[1;33m\u001b[0m\u001b[0m\n\u001b[0;32m    267\u001b[0m \u001b[1;33m\u001b[0m\u001b[0m\n",
      "\u001b[1;32mC:\\Sebastian\\Anaconda\\Installation\\lib\\site-packages\\pandas\\plotting\\_matplotlib\\core.py\u001b[0m in \u001b[0;36m_make_legend\u001b[1;34m(self)\u001b[0m\n\u001b[0;32m    570\u001b[0m \u001b[1;33m\u001b[0m\u001b[0m\n\u001b[0;32m    571\u001b[0m             \u001b[1;32mif\u001b[0m \u001b[0mlen\u001b[0m\u001b[1;33m(\u001b[0m\u001b[0mhandles\u001b[0m\u001b[1;33m)\u001b[0m \u001b[1;33m>\u001b[0m \u001b[1;36m0\u001b[0m\u001b[1;33m:\u001b[0m\u001b[1;33m\u001b[0m\u001b[1;33m\u001b[0m\u001b[0m\n\u001b[1;32m--> 572\u001b[1;33m                 \u001b[0max\u001b[0m\u001b[1;33m.\u001b[0m\u001b[0mlegend\u001b[0m\u001b[1;33m(\u001b[0m\u001b[0mhandles\u001b[0m\u001b[1;33m,\u001b[0m \u001b[0mlabels\u001b[0m\u001b[1;33m,\u001b[0m \u001b[0mloc\u001b[0m\u001b[1;33m=\u001b[0m\u001b[1;34m\"best\"\u001b[0m\u001b[1;33m,\u001b[0m \u001b[0mtitle\u001b[0m\u001b[1;33m=\u001b[0m\u001b[0mtitle\u001b[0m\u001b[1;33m)\u001b[0m\u001b[1;33m\u001b[0m\u001b[1;33m\u001b[0m\u001b[0m\n\u001b[0m\u001b[0;32m    573\u001b[0m \u001b[1;33m\u001b[0m\u001b[0m\n\u001b[0;32m    574\u001b[0m         \u001b[1;32melif\u001b[0m \u001b[0mself\u001b[0m\u001b[1;33m.\u001b[0m\u001b[0msubplots\u001b[0m \u001b[1;32mand\u001b[0m \u001b[0mself\u001b[0m\u001b[1;33m.\u001b[0m\u001b[0mlegend\u001b[0m\u001b[1;33m:\u001b[0m\u001b[1;33m\u001b[0m\u001b[1;33m\u001b[0m\u001b[0m\n",
      "\u001b[1;32mC:\\Sebastian\\Anaconda\\Installation\\lib\\site-packages\\matplotlib\\axes\\_axes.py\u001b[0m in \u001b[0;36mlegend\u001b[1;34m(self, *args, **kwargs)\u001b[0m\n\u001b[0;32m    404\u001b[0m         \u001b[1;32mif\u001b[0m \u001b[0mlen\u001b[0m\u001b[1;33m(\u001b[0m\u001b[0mextra_args\u001b[0m\u001b[1;33m)\u001b[0m\u001b[1;33m:\u001b[0m\u001b[1;33m\u001b[0m\u001b[1;33m\u001b[0m\u001b[0m\n\u001b[0;32m    405\u001b[0m             \u001b[1;32mraise\u001b[0m \u001b[0mTypeError\u001b[0m\u001b[1;33m(\u001b[0m\u001b[1;34m'legend only accepts two non-keyword arguments'\u001b[0m\u001b[1;33m)\u001b[0m\u001b[1;33m\u001b[0m\u001b[1;33m\u001b[0m\u001b[0m\n\u001b[1;32m--> 406\u001b[1;33m         \u001b[0mself\u001b[0m\u001b[1;33m.\u001b[0m\u001b[0mlegend_\u001b[0m \u001b[1;33m=\u001b[0m \u001b[0mmlegend\u001b[0m\u001b[1;33m.\u001b[0m\u001b[0mLegend\u001b[0m\u001b[1;33m(\u001b[0m\u001b[0mself\u001b[0m\u001b[1;33m,\u001b[0m \u001b[0mhandles\u001b[0m\u001b[1;33m,\u001b[0m \u001b[0mlabels\u001b[0m\u001b[1;33m,\u001b[0m \u001b[1;33m**\u001b[0m\u001b[0mkwargs\u001b[0m\u001b[1;33m)\u001b[0m\u001b[1;33m\u001b[0m\u001b[1;33m\u001b[0m\u001b[0m\n\u001b[0m\u001b[0;32m    407\u001b[0m         \u001b[0mself\u001b[0m\u001b[1;33m.\u001b[0m\u001b[0mlegend_\u001b[0m\u001b[1;33m.\u001b[0m\u001b[0m_remove_method\u001b[0m \u001b[1;33m=\u001b[0m \u001b[0mself\u001b[0m\u001b[1;33m.\u001b[0m\u001b[0m_remove_legend\u001b[0m\u001b[1;33m\u001b[0m\u001b[1;33m\u001b[0m\u001b[0m\n\u001b[0;32m    408\u001b[0m         \u001b[1;32mreturn\u001b[0m \u001b[0mself\u001b[0m\u001b[1;33m.\u001b[0m\u001b[0mlegend_\u001b[0m\u001b[1;33m\u001b[0m\u001b[1;33m\u001b[0m\u001b[0m\n",
      "\u001b[1;32mC:\\Sebastian\\Anaconda\\Installation\\lib\\site-packages\\matplotlib\\legend.py\u001b[0m in \u001b[0;36m__init__\u001b[1;34m(self, parent, handles, labels, loc, numpoints, markerscale, markerfirst, scatterpoints, scatteryoffsets, prop, fontsize, borderpad, labelspacing, handlelength, handleheight, handletextpad, borderaxespad, columnspacing, ncol, mode, fancybox, shadow, title, title_fontsize, framealpha, edgecolor, facecolor, bbox_to_anchor, bbox_transform, frameon, handler_map)\u001b[0m\n\u001b[0;32m    573\u001b[0m \u001b[1;33m\u001b[0m\u001b[0m\n\u001b[0;32m    574\u001b[0m         \u001b[1;31m# init with null renderer\u001b[0m\u001b[1;33m\u001b[0m\u001b[1;33m\u001b[0m\u001b[1;33m\u001b[0m\u001b[0m\n\u001b[1;32m--> 575\u001b[1;33m         \u001b[0mself\u001b[0m\u001b[1;33m.\u001b[0m\u001b[0m_init_legend_box\u001b[0m\u001b[1;33m(\u001b[0m\u001b[0mhandles\u001b[0m\u001b[1;33m,\u001b[0m \u001b[0mlabels\u001b[0m\u001b[1;33m,\u001b[0m \u001b[0mmarkerfirst\u001b[0m\u001b[1;33m)\u001b[0m\u001b[1;33m\u001b[0m\u001b[1;33m\u001b[0m\u001b[0m\n\u001b[0m\u001b[0;32m    576\u001b[0m \u001b[1;33m\u001b[0m\u001b[0m\n\u001b[0;32m    577\u001b[0m         \u001b[1;31m# If shadow is activated use framealpha if not\u001b[0m\u001b[1;33m\u001b[0m\u001b[1;33m\u001b[0m\u001b[1;33m\u001b[0m\u001b[0m\n",
      "\u001b[1;32mC:\\Sebastian\\Anaconda\\Installation\\lib\\site-packages\\matplotlib\\legend.py\u001b[0m in \u001b[0;36m_init_legend_box\u001b[1;34m(self, handles, labels, markerfirst)\u001b[0m\n\u001b[0;32m    831\u001b[0m                 \u001b[1;31m# original artist/handle.\u001b[0m\u001b[1;33m\u001b[0m\u001b[1;33m\u001b[0m\u001b[1;33m\u001b[0m\u001b[0m\n\u001b[0;32m    832\u001b[0m                 handle_list.append(handler.legend_artist(self, orig_handle,\n\u001b[1;32m--> 833\u001b[1;33m                                                          fontsize, handlebox))\n\u001b[0m\u001b[0;32m    834\u001b[0m                 \u001b[0mhandles_and_labels\u001b[0m\u001b[1;33m.\u001b[0m\u001b[0mappend\u001b[0m\u001b[1;33m(\u001b[0m\u001b[1;33m(\u001b[0m\u001b[0mhandlebox\u001b[0m\u001b[1;33m,\u001b[0m \u001b[0mtextbox\u001b[0m\u001b[1;33m)\u001b[0m\u001b[1;33m)\u001b[0m\u001b[1;33m\u001b[0m\u001b[1;33m\u001b[0m\u001b[0m\n\u001b[0;32m    835\u001b[0m \u001b[1;33m\u001b[0m\u001b[0m\n",
      "\u001b[1;32mC:\\Sebastian\\Anaconda\\Installation\\lib\\site-packages\\matplotlib\\legend_handler.py\u001b[0m in \u001b[0;36mlegend_artist\u001b[1;34m(self, legend, orig_handle, fontsize, handlebox)\u001b[0m\n\u001b[0;32m    113\u001b[0m         artists = self.create_artists(legend, orig_handle,\n\u001b[0;32m    114\u001b[0m                                       \u001b[0mxdescent\u001b[0m\u001b[1;33m,\u001b[0m \u001b[0mydescent\u001b[0m\u001b[1;33m,\u001b[0m \u001b[0mwidth\u001b[0m\u001b[1;33m,\u001b[0m \u001b[0mheight\u001b[0m\u001b[1;33m,\u001b[0m\u001b[1;33m\u001b[0m\u001b[1;33m\u001b[0m\u001b[0m\n\u001b[1;32m--> 115\u001b[1;33m                                       fontsize, handlebox.get_transform())\n\u001b[0m\u001b[0;32m    116\u001b[0m \u001b[1;33m\u001b[0m\u001b[0m\n\u001b[0;32m    117\u001b[0m         \u001b[1;31m# create_artists will return a list of artists.\u001b[0m\u001b[1;33m\u001b[0m\u001b[1;33m\u001b[0m\u001b[1;33m\u001b[0m\u001b[0m\n",
      "\u001b[1;32mC:\\Sebastian\\Anaconda\\Installation\\lib\\site-packages\\matplotlib\\legend_handler.py\u001b[0m in \u001b[0;36mcreate_artists\u001b[1;34m(self, legend, orig_handle, xdescent, ydescent, width, height, fontsize, trans)\u001b[0m\n\u001b[0;32m    297\u001b[0m         p = self._create_patch(legend, orig_handle,\n\u001b[0;32m    298\u001b[0m                                xdescent, ydescent, width, height, fontsize)\n\u001b[1;32m--> 299\u001b[1;33m         \u001b[0mself\u001b[0m\u001b[1;33m.\u001b[0m\u001b[0mupdate_prop\u001b[0m\u001b[1;33m(\u001b[0m\u001b[0mp\u001b[0m\u001b[1;33m,\u001b[0m \u001b[0morig_handle\u001b[0m\u001b[1;33m,\u001b[0m \u001b[0mlegend\u001b[0m\u001b[1;33m)\u001b[0m\u001b[1;33m\u001b[0m\u001b[1;33m\u001b[0m\u001b[0m\n\u001b[0m\u001b[0;32m    300\u001b[0m         \u001b[0mp\u001b[0m\u001b[1;33m.\u001b[0m\u001b[0mset_transform\u001b[0m\u001b[1;33m(\u001b[0m\u001b[0mtrans\u001b[0m\u001b[1;33m)\u001b[0m\u001b[1;33m\u001b[0m\u001b[1;33m\u001b[0m\u001b[0m\n\u001b[0;32m    301\u001b[0m         \u001b[1;32mreturn\u001b[0m \u001b[1;33m[\u001b[0m\u001b[0mp\u001b[0m\u001b[1;33m]\u001b[0m\u001b[1;33m\u001b[0m\u001b[1;33m\u001b[0m\u001b[0m\n",
      "\u001b[1;32mC:\\Sebastian\\Anaconda\\Installation\\lib\\site-packages\\matplotlib\\legend_handler.py\u001b[0m in \u001b[0;36mupdate_prop\u001b[1;34m(self, legend_handle, orig_handle, legend)\u001b[0m\n\u001b[0;32m     70\u001b[0m     \u001b[1;32mdef\u001b[0m \u001b[0mupdate_prop\u001b[0m\u001b[1;33m(\u001b[0m\u001b[0mself\u001b[0m\u001b[1;33m,\u001b[0m \u001b[0mlegend_handle\u001b[0m\u001b[1;33m,\u001b[0m \u001b[0morig_handle\u001b[0m\u001b[1;33m,\u001b[0m \u001b[0mlegend\u001b[0m\u001b[1;33m)\u001b[0m\u001b[1;33m:\u001b[0m\u001b[1;33m\u001b[0m\u001b[1;33m\u001b[0m\u001b[0m\n\u001b[0;32m     71\u001b[0m \u001b[1;33m\u001b[0m\u001b[0m\n\u001b[1;32m---> 72\u001b[1;33m         \u001b[0mself\u001b[0m\u001b[1;33m.\u001b[0m\u001b[0m_update_prop\u001b[0m\u001b[1;33m(\u001b[0m\u001b[0mlegend_handle\u001b[0m\u001b[1;33m,\u001b[0m \u001b[0morig_handle\u001b[0m\u001b[1;33m)\u001b[0m\u001b[1;33m\u001b[0m\u001b[1;33m\u001b[0m\u001b[0m\n\u001b[0m\u001b[0;32m     73\u001b[0m \u001b[1;33m\u001b[0m\u001b[0m\n\u001b[0;32m     74\u001b[0m         \u001b[0mlegend\u001b[0m\u001b[1;33m.\u001b[0m\u001b[0m_set_artist_props\u001b[0m\u001b[1;33m(\u001b[0m\u001b[0mlegend_handle\u001b[0m\u001b[1;33m)\u001b[0m\u001b[1;33m\u001b[0m\u001b[1;33m\u001b[0m\u001b[0m\n",
      "\u001b[1;32mC:\\Sebastian\\Anaconda\\Installation\\lib\\site-packages\\matplotlib\\legend_handler.py\u001b[0m in \u001b[0;36m_update_prop\u001b[1;34m(self, legend_handle, orig_handle)\u001b[0m\n\u001b[0;32m     63\u001b[0m             \u001b[0mself\u001b[0m\u001b[1;33m.\u001b[0m\u001b[0m_default_update_prop\u001b[0m\u001b[1;33m(\u001b[0m\u001b[0mlegend_handle\u001b[0m\u001b[1;33m,\u001b[0m \u001b[0morig_handle\u001b[0m\u001b[1;33m)\u001b[0m\u001b[1;33m\u001b[0m\u001b[1;33m\u001b[0m\u001b[0m\n\u001b[0;32m     64\u001b[0m         \u001b[1;32melse\u001b[0m\u001b[1;33m:\u001b[0m\u001b[1;33m\u001b[0m\u001b[1;33m\u001b[0m\u001b[0m\n\u001b[1;32m---> 65\u001b[1;33m             \u001b[0mself\u001b[0m\u001b[1;33m.\u001b[0m\u001b[0m_update_prop_func\u001b[0m\u001b[1;33m(\u001b[0m\u001b[0mlegend_handle\u001b[0m\u001b[1;33m,\u001b[0m \u001b[0morig_handle\u001b[0m\u001b[1;33m)\u001b[0m\u001b[1;33m\u001b[0m\u001b[1;33m\u001b[0m\u001b[0m\n\u001b[0m\u001b[0;32m     66\u001b[0m \u001b[1;33m\u001b[0m\u001b[0m\n\u001b[0;32m     67\u001b[0m     \u001b[1;32mdef\u001b[0m \u001b[0m_default_update_prop\u001b[0m\u001b[1;33m(\u001b[0m\u001b[0mself\u001b[0m\u001b[1;33m,\u001b[0m \u001b[0mlegend_handle\u001b[0m\u001b[1;33m,\u001b[0m \u001b[0morig_handle\u001b[0m\u001b[1;33m)\u001b[0m\u001b[1;33m:\u001b[0m\u001b[1;33m\u001b[0m\u001b[1;33m\u001b[0m\u001b[0m\n",
      "\u001b[1;32mC:\\Sebastian\\Anaconda\\Installation\\lib\\site-packages\\matplotlib\\legend_handler.py\u001b[0m in \u001b[0;36mupdate_from_first_child\u001b[1;34m(tgt, src)\u001b[0m\n\u001b[0;32m     36\u001b[0m \u001b[1;33m\u001b[0m\u001b[0m\n\u001b[0;32m     37\u001b[0m \u001b[1;32mdef\u001b[0m \u001b[0mupdate_from_first_child\u001b[0m\u001b[1;33m(\u001b[0m\u001b[0mtgt\u001b[0m\u001b[1;33m,\u001b[0m \u001b[0msrc\u001b[0m\u001b[1;33m)\u001b[0m\u001b[1;33m:\u001b[0m\u001b[1;33m\u001b[0m\u001b[1;33m\u001b[0m\u001b[0m\n\u001b[1;32m---> 38\u001b[1;33m     \u001b[0mtgt\u001b[0m\u001b[1;33m.\u001b[0m\u001b[0mupdate_from\u001b[0m\u001b[1;33m(\u001b[0m\u001b[0msrc\u001b[0m\u001b[1;33m.\u001b[0m\u001b[0mget_children\u001b[0m\u001b[1;33m(\u001b[0m\u001b[1;33m)\u001b[0m\u001b[1;33m[\u001b[0m\u001b[1;36m0\u001b[0m\u001b[1;33m]\u001b[0m\u001b[1;33m)\u001b[0m\u001b[1;33m\u001b[0m\u001b[1;33m\u001b[0m\u001b[0m\n\u001b[0m\u001b[0;32m     39\u001b[0m \u001b[1;33m\u001b[0m\u001b[0m\n\u001b[0;32m     40\u001b[0m \u001b[1;33m\u001b[0m\u001b[0m\n",
      "\u001b[1;31mIndexError\u001b[0m: list index out of range"
     ]
    }
   ],
   "source": [
    "df = pd.merge(republicans.rama.value_counts(), democrats.rama.value_counts(), right_index = True, left_index = True)\n",
    "df = df.rename(columns = {\"rama_x\": \"Total Trump Mentions\", \"rama_y\": \"Total Biden Mentions\"})\n",
    "ax = df.plot(kind='barh', figsize=(16, 25), zorder=2)\n",
    "\n",
    "# Despine\n",
    "ax.spines['right'].set_visible(False)\n",
    "ax.spines['top'].set_visible(False)\n",
    "ax.spines['left'].set_visible(False)\n",
    "ax.spines['bottom'].set_visible(False)\n",
    "\n",
    "#Replacing ticks with horizontal lines\n",
    "#ax.tick_params(axis=\"both\", which=\"both\", bottom=\"off\", top=\"off\", labelbottom=\"on\", left=\"off\", right=\"off\", labelleft=\"on\")\n",
    "vals = ax.get_xticks()\n",
    "for tick in vals:\n",
    "      ax.axvline(x=tick, linestyle='dashed', alpha=0.4, color='#eeeeee', zorder=1)\n",
    "\n",
    "# Set y-axis label\n",
    "ax.set_ylabel(\"Rama\", labelpad=20, weight='bold', size=12)\n",
    "ax.set_title('Comparison of Twitter mentions of both candidates in all US states as per data collected',fontweight=\"bold\", size=15)"
   ]
  }
 ]
}