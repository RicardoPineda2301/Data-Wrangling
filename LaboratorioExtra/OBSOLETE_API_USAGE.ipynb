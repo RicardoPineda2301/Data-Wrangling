{
 "metadata": {
  "language_info": {
   "codemirror_mode": {
    "name": "ipython",
    "version": 3
   },
   "file_extension": ".py",
   "mimetype": "text/x-python",
   "name": "python",
   "nbconvert_exporter": "python",
   "pygments_lexer": "ipython3",
   "version": "3.7.6-final"
  },
  "orig_nbformat": 2,
  "kernelspec": {
   "name": "python3",
   "display_name": "Python 3"
  }
 },
 "nbformat": 4,
 "nbformat_minor": 2,
 "cells": [
  {
   "source": [
    "## Imports"
   ],
   "cell_type": "markdown",
   "metadata": {}
  },
  {
   "cell_type": "code",
   "execution_count": 17,
   "metadata": {},
   "outputs": [
    {
     "output_type": "stream",
     "name": "stdout",
     "text": [
      "done\n"
     ]
    }
   ],
   "source": [
    "import configparser\n",
    "import os\n",
    "import tweepy as tw\n",
    "import pandas as pd\n",
    "import re\n",
    "import nltk\n",
    "from nltk.sentiment.vader import SentimentIntensityAnalyzer\n",
    "\n",
    "print ('done')"
   ]
  },
  {
   "source": [
    "## Autenticacion"
   ],
   "cell_type": "markdown",
   "metadata": {}
  },
  {
   "cell_type": "code",
   "execution_count": 3,
   "metadata": {},
   "outputs": [],
   "source": []
  },
  {
   "cell_type": "code",
   "execution_count": 4,
   "metadata": {},
   "outputs": [],
   "source": [
    "auth = tw.OAuthHandler(apikey, apisecretkey)\n",
    "auth.set_access_token(accesstoken, accesstokensecret)\n",
    "api = tw.API(auth, wait_on_rate_limit=True)"
   ]
  },
  {
   "source": [
    "### Biden"
   ],
   "cell_type": "markdown",
   "metadata": {}
  },
  {
   "cell_type": "code",
   "execution_count": 7,
   "metadata": {},
   "outputs": [],
   "source": [
    "search_words = \"Joe Biden\" \n",
    "date_since = \"2020-10-27\""
   ]
  },
  {
   "cell_type": "code",
   "execution_count": 8,
   "metadata": {},
   "outputs": [
    {
     "output_type": "execute_result",
     "data": {
      "text/plain": [
       "<tweepy.cursor.ItemIterator at 0x18d25b18508>"
      ]
     },
     "metadata": {},
     "execution_count": 8
    }
   ],
   "source": [
    "tweets = tw.Cursor(api.search, q=search_words, lang=\"en\", since=date_since).items(100)\n",
    "tweets"
   ]
  },
  {
   "source": [
    "### Detalles de Tweet "
   ],
   "cell_type": "markdown",
   "metadata": {}
  },
  {
   "cell_type": "code",
   "execution_count": 9,
   "metadata": {},
   "outputs": [
    {
     "output_type": "execute_result",
     "data": {
      "text/plain": [
       "    geo                                               text            user  \\\n",
       "0  None  RT @HarrisonLansing: @DavidCornDC @RudyGiulian...  Bean_of_Boston   \n",
       "1  None  RT @ABC: Pres.-elect Joe Biden warns COVID-19 ...         Cook34H   \n",
       "2  None  RT @BeachCity55: Sorry you biased little liber...     BeachCity55   \n",
       "3  None  RT @kylegriffin1: After failing in court to ov...  cidalia_borges   \n",
       "4  None  RT @kylegriffin1: After failing in court to ov...    Kevinacronin   \n",
       "\n",
       "           location  \n",
       "0                    \n",
       "1                    \n",
       "2                FL  \n",
       "3                    \n",
       "4  Atlanta, GA, USA  "
      ],
      "text/html": "<div>\n<style scoped>\n    .dataframe tbody tr th:only-of-type {\n        vertical-align: middle;\n    }\n\n    .dataframe tbody tr th {\n        vertical-align: top;\n    }\n\n    .dataframe thead th {\n        text-align: right;\n    }\n</style>\n<table border=\"1\" class=\"dataframe\">\n  <thead>\n    <tr style=\"text-align: right;\">\n      <th></th>\n      <th>geo</th>\n      <th>text</th>\n      <th>user</th>\n      <th>location</th>\n    </tr>\n  </thead>\n  <tbody>\n    <tr>\n      <th>0</th>\n      <td>None</td>\n      <td>RT @HarrisonLansing: @DavidCornDC @RudyGiulian...</td>\n      <td>Bean_of_Boston</td>\n      <td></td>\n    </tr>\n    <tr>\n      <th>1</th>\n      <td>None</td>\n      <td>RT @ABC: Pres.-elect Joe Biden warns COVID-19 ...</td>\n      <td>Cook34H</td>\n      <td></td>\n    </tr>\n    <tr>\n      <th>2</th>\n      <td>None</td>\n      <td>RT @BeachCity55: Sorry you biased little liber...</td>\n      <td>BeachCity55</td>\n      <td>FL</td>\n    </tr>\n    <tr>\n      <th>3</th>\n      <td>None</td>\n      <td>RT @kylegriffin1: After failing in court to ov...</td>\n      <td>cidalia_borges</td>\n      <td></td>\n    </tr>\n    <tr>\n      <th>4</th>\n      <td>None</td>\n      <td>RT @kylegriffin1: After failing in court to ov...</td>\n      <td>Kevinacronin</td>\n      <td>Atlanta, GA, USA</td>\n    </tr>\n  </tbody>\n</table>\n</div>"
     },
     "metadata": {},
     "execution_count": 9
    }
   ],
   "source": [
    "tweet_details = [[tweet.geo, tweet.text, tweet.user.screen_name, tweet.user.location] for tweet in tweets]\n",
    "tweet_df = pd.DataFrame(data=tweet_details, columns=[\"geo\",\"text\",\"user\",\"location\"])\n",
    "tweet_df.head()"
   ]
  },
  {
   "cell_type": "code",
   "execution_count": 13,
   "metadata": {},
   "outputs": [
    {
     "output_type": "execute_result",
     "data": {
      "text/plain": [
       "     geo                                               text             user  \\\n",
       "0   None     There WAS a conspiracy!79,000,000 Americans...   Bean_of_Boston   \n",
       "1   None   Pres.-elect Joe Biden warns COVID-19 vaccine ...          Cook34H   \n",
       "2   None   Sorry you biased little liberal flea, Joe Bid...      BeachCity55   \n",
       "3   None   After failing in court to overturn election r...   cidalia_borges   \n",
       "4   None   After failing in court to overturn election r...     Kevinacronin   \n",
       "5   None   I’ll lose followers for saying this but I sti...      devibharati   \n",
       "6   None   “Evidence of voter fraud continues to grow, i...      BKabbalista   \n",
       "7   None   Joe Biden: \"We have put together I think the ...       UcheJonah5   \n",
       "8   None   “Evidence of voter fraud continues to grow, i...        jbminatra   \n",
       "9   None   Is anyone surprised Joe Biden is trying to fo...     DingusMcMann   \n",
       "10  None   “Evidence of voter fraud continues to grow, i...    GuillaumeGLN1   \n",
       "11  None   Joe Biden's winning tally is approaching a re...    girlygirl1919   \n",
       "12  None   “Evidence of voter fraud continues to grow, i...    HooliganLives   \n",
       "13  None   If I've had any one message in everything I'v...   1butterflywild   \n",
       "14  None   “Evidence of voter fraud continues to grow, i...         MarkDice   \n",
       "15  None   Nurses are begging President-elect Joe Biden ...   corinmanhattan   \n",
       "16  None   President Trump has summoned Michigan’s Repub...  ChrisRobbins_20   \n",
       "17  None   This is not about my politics it’s about poli...   JuanHernandez1   \n",
       "18  None   President Trump has summoned Michigan’s Repub...               AP   \n",
       "19  None   Some things Joe Biden/his admin can do with e...       Robvcastro   \n",
       "\n",
       "                 location    Subject  \n",
       "0                          Joe Biden  \n",
       "1                          Joe Biden  \n",
       "2                      FL  Joe Biden  \n",
       "3                          Joe Biden  \n",
       "4        Atlanta, GA, USA  Joe Biden  \n",
       "5                          Joe Biden  \n",
       "6                          Joe Biden  \n",
       "7                 Nigeria  Joe Biden  \n",
       "8   TN.USA  #GoneToTEXAS   Joe Biden  \n",
       "9           San Francisco  Joe Biden  \n",
       "10                         Joe Biden  \n",
       "11        Ontario, Canada  Joe Biden  \n",
       "12                         Joe Biden  \n",
       "13                         Joe Biden  \n",
       "14           MAGA Country  Joe Biden  \n",
       "15                         Joe Biden  \n",
       "16          Michigan, USA  Joe Biden  \n",
       "17                    Idk  Joe Biden  \n",
       "18                 Global  Joe Biden  \n",
       "19                         Joe Biden  "
      ],
      "text/html": "<div>\n<style scoped>\n    .dataframe tbody tr th:only-of-type {\n        vertical-align: middle;\n    }\n\n    .dataframe tbody tr th {\n        vertical-align: top;\n    }\n\n    .dataframe thead th {\n        text-align: right;\n    }\n</style>\n<table border=\"1\" class=\"dataframe\">\n  <thead>\n    <tr style=\"text-align: right;\">\n      <th></th>\n      <th>geo</th>\n      <th>text</th>\n      <th>user</th>\n      <th>location</th>\n      <th>Subject</th>\n    </tr>\n  </thead>\n  <tbody>\n    <tr>\n      <th>0</th>\n      <td>None</td>\n      <td>There WAS a conspiracy!79,000,000 Americans...</td>\n      <td>Bean_of_Boston</td>\n      <td></td>\n      <td>Joe Biden</td>\n    </tr>\n    <tr>\n      <th>1</th>\n      <td>None</td>\n      <td>Pres.-elect Joe Biden warns COVID-19 vaccine ...</td>\n      <td>Cook34H</td>\n      <td></td>\n      <td>Joe Biden</td>\n    </tr>\n    <tr>\n      <th>2</th>\n      <td>None</td>\n      <td>Sorry you biased little liberal flea, Joe Bid...</td>\n      <td>BeachCity55</td>\n      <td>FL</td>\n      <td>Joe Biden</td>\n    </tr>\n    <tr>\n      <th>3</th>\n      <td>None</td>\n      <td>After failing in court to overturn election r...</td>\n      <td>cidalia_borges</td>\n      <td></td>\n      <td>Joe Biden</td>\n    </tr>\n    <tr>\n      <th>4</th>\n      <td>None</td>\n      <td>After failing in court to overturn election r...</td>\n      <td>Kevinacronin</td>\n      <td>Atlanta, GA, USA</td>\n      <td>Joe Biden</td>\n    </tr>\n    <tr>\n      <th>5</th>\n      <td>None</td>\n      <td>I’ll lose followers for saying this but I sti...</td>\n      <td>devibharati</td>\n      <td></td>\n      <td>Joe Biden</td>\n    </tr>\n    <tr>\n      <th>6</th>\n      <td>None</td>\n      <td>“Evidence of voter fraud continues to grow, i...</td>\n      <td>BKabbalista</td>\n      <td></td>\n      <td>Joe Biden</td>\n    </tr>\n    <tr>\n      <th>7</th>\n      <td>None</td>\n      <td>Joe Biden: \"We have put together I think the ...</td>\n      <td>UcheJonah5</td>\n      <td>Nigeria</td>\n      <td>Joe Biden</td>\n    </tr>\n    <tr>\n      <th>8</th>\n      <td>None</td>\n      <td>“Evidence of voter fraud continues to grow, i...</td>\n      <td>jbminatra</td>\n      <td>TN.USA  #GoneToTEXAS</td>\n      <td>Joe Biden</td>\n    </tr>\n    <tr>\n      <th>9</th>\n      <td>None</td>\n      <td>Is anyone surprised Joe Biden is trying to fo...</td>\n      <td>DingusMcMann</td>\n      <td>San Francisco</td>\n      <td>Joe Biden</td>\n    </tr>\n    <tr>\n      <th>10</th>\n      <td>None</td>\n      <td>“Evidence of voter fraud continues to grow, i...</td>\n      <td>GuillaumeGLN1</td>\n      <td></td>\n      <td>Joe Biden</td>\n    </tr>\n    <tr>\n      <th>11</th>\n      <td>None</td>\n      <td>Joe Biden's winning tally is approaching a re...</td>\n      <td>girlygirl1919</td>\n      <td>Ontario, Canada</td>\n      <td>Joe Biden</td>\n    </tr>\n    <tr>\n      <th>12</th>\n      <td>None</td>\n      <td>“Evidence of voter fraud continues to grow, i...</td>\n      <td>HooliganLives</td>\n      <td></td>\n      <td>Joe Biden</td>\n    </tr>\n    <tr>\n      <th>13</th>\n      <td>None</td>\n      <td>If I've had any one message in everything I'v...</td>\n      <td>1butterflywild</td>\n      <td></td>\n      <td>Joe Biden</td>\n    </tr>\n    <tr>\n      <th>14</th>\n      <td>None</td>\n      <td>“Evidence of voter fraud continues to grow, i...</td>\n      <td>MarkDice</td>\n      <td>MAGA Country</td>\n      <td>Joe Biden</td>\n    </tr>\n    <tr>\n      <th>15</th>\n      <td>None</td>\n      <td>Nurses are begging President-elect Joe Biden ...</td>\n      <td>corinmanhattan</td>\n      <td></td>\n      <td>Joe Biden</td>\n    </tr>\n    <tr>\n      <th>16</th>\n      <td>None</td>\n      <td>President Trump has summoned Michigan’s Repub...</td>\n      <td>ChrisRobbins_20</td>\n      <td>Michigan, USA</td>\n      <td>Joe Biden</td>\n    </tr>\n    <tr>\n      <th>17</th>\n      <td>None</td>\n      <td>This is not about my politics it’s about poli...</td>\n      <td>JuanHernandez1</td>\n      <td>Idk</td>\n      <td>Joe Biden</td>\n    </tr>\n    <tr>\n      <th>18</th>\n      <td>None</td>\n      <td>President Trump has summoned Michigan’s Repub...</td>\n      <td>AP</td>\n      <td>Global</td>\n      <td>Joe Biden</td>\n    </tr>\n    <tr>\n      <th>19</th>\n      <td>None</td>\n      <td>Some things Joe Biden/his admin can do with e...</td>\n      <td>Robvcastro</td>\n      <td></td>\n      <td>Joe Biden</td>\n    </tr>\n  </tbody>\n</table>\n</div>"
     },
     "metadata": {},
     "execution_count": 13
    }
   ],
   "source": [
    "def limpiar(text):\n",
    "  text = re.sub(\"RT @[\\w]*:\",\"\",text)\n",
    "  text = re.sub(\"@[\\w]*\",\"\",text)\n",
    "  text = re.sub(\"https?://[A-Za-z0-9./]*\",\"\",text)\n",
    "  text = re.sub(\"\\n\",\"\",text)\n",
    "  return text\n",
    "\n",
    "tweet_df['text'] = tweet_df['text'].apply(lambda x: limpiar(x))\n",
    "tweet_df['Subject'] = search_words\n",
    "tweet_df.head(20)"
   ]
  },
  {
   "source": [
    "### Estados / Codigo"
   ],
   "cell_type": "markdown",
   "metadata": {}
  },
  {
   "cell_type": "code",
   "execution_count": 15,
   "metadata": {},
   "outputs": [],
   "source": [
    "states = ['Alabama', 'Alaska', 'Arizona', 'Arkansas', 'California', 'Colorado', 'Connecticut', 'Delaware', 'Florida', 'Georgia', 'Hawaii', 'Idaho', 'Illinois', 'Indiana', 'Iowa', 'Kansas', 'Kentucky', 'Louisiana', 'Maine', 'Maryland', 'Massachusetts', 'Michigan', 'Minnesota', 'Mississippi', 'Missouri', 'Montana', 'Nebraska', 'Nevada', 'New Hampshire', 'New Jersey', 'New York', 'New Mexico', 'North Carolina', 'North Dakota', 'Ohio', 'Oklahoma', 'Oregon', 'Pennsylvania', 'Rhode Island', 'South Carolina', 'South Dakota', 'Tennessee', 'Texas', 'Utah', 'Vermont', 'Virginia', 'Washington', 'West Virginia', 'Wisconsin', 'Wyoming']\n",
    "\n",
    "stateCodes = ['AL', 'AK', 'AZ', 'AR', 'CA', 'CO', 'CT', 'DE', 'FL', 'GA', 'HI', 'ID', 'IL', 'IN', 'IA', 'KS', 'KY', 'LA', 'ME', 'MD', 'MA', 'MI', 'MN', 'MS', 'MO', 'MT', 'NE', 'NV', 'NH', 'NJ', 'NM', 'NY', 'NC', 'ND', 'OH', 'OK', 'OR', 'PA', 'RI', 'SC', 'SD', 'TN', 'TX', 'UT', 'VT', 'VA', 'WA', 'WV', 'WI', 'WY']\n",
    "\n",
    "stateMapping = {'AL': 'Alabama', 'AK': 'Alaska', 'AZ': 'Arizona', 'AR': 'Arkansas', 'CA': 'California', 'CO': 'Colorado', 'CT': 'Connecticut', 'DE': 'Delaware', 'FL': 'Florida', 'GA': 'Georgia', 'HI': 'Hawaii', 'ID': 'Idaho', 'IL': 'Illinois', 'IN': 'Indiana', 'IA': 'Iowa', 'KS': 'Kansas', 'KY': 'Kentucky', 'LA': 'Louisiana', 'ME': 'Maine', 'MD': 'Maryland', 'MA': 'Massachusetts', 'MI': 'Michigan', 'MN': 'Minnesota', 'MS': 'Mississippi', 'MO': 'Missouri', 'MT': 'Montana', 'NE': 'Nebraska', 'NV': 'Nevada', 'NH': 'New Hampshire', 'NJ': 'New Jersey', 'NY': 'New York', 'NM': 'New Mexico', 'NC': 'North Carolina', 'ND': 'North Dakota', 'OH': 'Ohio', 'OK': 'Oklahoma', 'OR': 'Oregon', 'PA': 'Pennsylvania', 'RI': 'Rhode Island', 'SC': 'South Carolina', 'SD': 'South Dakota', 'TN': 'Tennessee', 'TX': 'Texas', 'UT':  'Utah', 'VT': 'Vermont', 'VA': 'Virginia', 'WA': 'Washington', 'WV':  'West Virginia', 'WI': 'Wisconsin', 'WY': 'Wyoming'}\n",
    "tweet_copied_df = tweet_df\n",
    "\n",
    "for index, row in tweet_df.iterrows():\n",
    "  flag = 0\n",
    "  if row.location:\n",
    "    locationSplit = row.location.split(',')\n",
    "    for word in locationSplit:\n",
    "      word_stripped = word.strip()\n",
    "      if word_stripped in states:\n",
    "        flag = 1\n",
    "        row['state'] = word_stripped\n",
    "      elif word_stripped in stateCodes:\n",
    "        flag = 1\n",
    "        row['state'] = stateMapping[word_stripped]\n",
    "  if flag == 0:\n",
    "    tweet_copied_df = tweet_copied_df.drop(index=index)\n",
    "  else:\n",
    "    tweet_copied_df.loc[index, 'state'] = row['state']"
   ]
  },
  {
   "cell_type": "code",
   "execution_count": 16,
   "metadata": {},
   "outputs": [],
   "source": [
    "tweet_copied_df.to_csv('tweets_election.csv', header=False, mode='a')"
   ]
  },
  {
   "source": [
    "Analisis"
   ],
   "cell_type": "markdown",
   "metadata": {}
  },
  {
   "cell_type": "code",
   "execution_count": 18,
   "metadata": {},
   "outputs": [
    {
     "output_type": "stream",
     "name": "stderr",
     "text": [
      "[nltk_data] Downloading package vader_lexicon to C:\\Users\\Arq. Marco\n[nltk_data]     Castillo\\AppData\\Roaming\\nltk_data...\n"
     ]
    }
   ],
   "source": [
    "nltk.download('vader_lexicon')\n",
    "sid = SentimentIntensityAnalyzer()"
   ]
  },
  {
   "cell_type": "code",
   "execution_count": 19,
   "metadata": {},
   "outputs": [
    {
     "output_type": "error",
     "ename": "AttributeError",
     "evalue": "'DataFrame' object has no attribute 'Subject'",
     "traceback": [
      "\u001b[1;31m---------------------------------------------------------------------------\u001b[0m",
      "\u001b[1;31mAttributeError\u001b[0m                            Traceback (most recent call last)",
      "\u001b[1;32m<ipython-input-19-d2e3b6036853>\u001b[0m in \u001b[0;36m<module>\u001b[1;34m\u001b[0m\n\u001b[0;32m      1\u001b[0m \u001b[0mtweets_election_df\u001b[0m \u001b[1;33m=\u001b[0m \u001b[0mpd\u001b[0m\u001b[1;33m.\u001b[0m\u001b[0mread_csv\u001b[0m\u001b[1;33m(\u001b[0m\u001b[1;34m'tweets_election.csv'\u001b[0m\u001b[1;33m)\u001b[0m\u001b[1;33m\u001b[0m\u001b[1;33m\u001b[0m\u001b[0m\n\u001b[1;32m----> 2\u001b[1;33m \u001b[0mtweets_trump\u001b[0m \u001b[1;33m=\u001b[0m \u001b[0mtweets_election_df\u001b[0m\u001b[1;33m[\u001b[0m\u001b[0mtweets_election_df\u001b[0m\u001b[1;33m.\u001b[0m\u001b[0mSubject\u001b[0m \u001b[1;33m==\u001b[0m \u001b[1;34m'Donald Trump'\u001b[0m\u001b[1;33m]\u001b[0m\u001b[1;33m\u001b[0m\u001b[1;33m\u001b[0m\u001b[0m\n\u001b[0m\u001b[0;32m      3\u001b[0m \u001b[0mtweets_trump\u001b[0m\u001b[1;33m.\u001b[0m\u001b[0mdrop\u001b[0m\u001b[1;33m(\u001b[0m\u001b[0mtweets_trump\u001b[0m\u001b[1;33m.\u001b[0m\u001b[0mcolumns\u001b[0m\u001b[1;33m[\u001b[0m\u001b[1;36m0\u001b[0m\u001b[1;33m]\u001b[0m\u001b[1;33m,\u001b[0m \u001b[0maxis\u001b[0m\u001b[1;33m=\u001b[0m\u001b[1;36m1\u001b[0m\u001b[1;33m,\u001b[0m \u001b[0minplace\u001b[0m \u001b[1;33m=\u001b[0m \u001b[1;32mTrue\u001b[0m\u001b[1;33m)\u001b[0m\u001b[1;33m\u001b[0m\u001b[1;33m\u001b[0m\u001b[0m\n\u001b[0;32m      4\u001b[0m \u001b[0mtweets_trump\u001b[0m\u001b[1;33m.\u001b[0m\u001b[0mhead\u001b[0m\u001b[1;33m(\u001b[0m\u001b[1;33m)\u001b[0m\u001b[1;33m\u001b[0m\u001b[1;33m\u001b[0m\u001b[0m\n",
      "\u001b[1;32mC:\\Sebastian\\Anaconda\\Installation\\lib\\site-packages\\pandas\\core\\generic.py\u001b[0m in \u001b[0;36m__getattr__\u001b[1;34m(self, name)\u001b[0m\n\u001b[0;32m   5272\u001b[0m             \u001b[1;32mif\u001b[0m \u001b[0mself\u001b[0m\u001b[1;33m.\u001b[0m\u001b[0m_info_axis\u001b[0m\u001b[1;33m.\u001b[0m\u001b[0m_can_hold_identifiers_and_holds_name\u001b[0m\u001b[1;33m(\u001b[0m\u001b[0mname\u001b[0m\u001b[1;33m)\u001b[0m\u001b[1;33m:\u001b[0m\u001b[1;33m\u001b[0m\u001b[1;33m\u001b[0m\u001b[0m\n\u001b[0;32m   5273\u001b[0m                 \u001b[1;32mreturn\u001b[0m \u001b[0mself\u001b[0m\u001b[1;33m[\u001b[0m\u001b[0mname\u001b[0m\u001b[1;33m]\u001b[0m\u001b[1;33m\u001b[0m\u001b[1;33m\u001b[0m\u001b[0m\n\u001b[1;32m-> 5274\u001b[1;33m             \u001b[1;32mreturn\u001b[0m \u001b[0mobject\u001b[0m\u001b[1;33m.\u001b[0m\u001b[0m__getattribute__\u001b[0m\u001b[1;33m(\u001b[0m\u001b[0mself\u001b[0m\u001b[1;33m,\u001b[0m \u001b[0mname\u001b[0m\u001b[1;33m)\u001b[0m\u001b[1;33m\u001b[0m\u001b[1;33m\u001b[0m\u001b[0m\n\u001b[0m\u001b[0;32m   5275\u001b[0m \u001b[1;33m\u001b[0m\u001b[0m\n\u001b[0;32m   5276\u001b[0m     \u001b[1;32mdef\u001b[0m \u001b[0m__setattr__\u001b[0m\u001b[1;33m(\u001b[0m\u001b[0mself\u001b[0m\u001b[1;33m,\u001b[0m \u001b[0mname\u001b[0m\u001b[1;33m:\u001b[0m \u001b[0mstr\u001b[0m\u001b[1;33m,\u001b[0m \u001b[0mvalue\u001b[0m\u001b[1;33m)\u001b[0m \u001b[1;33m->\u001b[0m \u001b[1;32mNone\u001b[0m\u001b[1;33m:\u001b[0m\u001b[1;33m\u001b[0m\u001b[1;33m\u001b[0m\u001b[0m\n",
      "\u001b[1;31mAttributeError\u001b[0m: 'DataFrame' object has no attribute 'Subject'"
     ]
    }
   ],
   "source": [
    "tweets_election_df = pd.read_csv('tweets_election.csv')\n",
    "tweets_trump = tweets_election_df[tweets_election_df.Subject == 'Donald Trump']\n",
    "tweets_trump.drop(tweets_trump.columns[0], axis=1, inplace = True)\n",
    "tweets_trump.head()"
   ]
  }
 ]
}