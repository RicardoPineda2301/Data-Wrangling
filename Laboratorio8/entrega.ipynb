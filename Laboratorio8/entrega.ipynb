{
 "metadata": {
  "language_info": {
   "codemirror_mode": {
    "name": "ipython",
    "version": 3
   },
   "file_extension": ".py",
   "mimetype": "text/x-python",
   "name": "python",
   "nbconvert_exporter": "python",
   "pygments_lexer": "ipython3",
   "version": "3.7.6-final"
  },
  "orig_nbformat": 2,
  "kernelspec": {
   "name": "python3",
   "display_name": "Python 3"
  }
 },
 "nbformat": 4,
 "nbformat_minor": 2,
 "cells": [
  {
   "source": [
    "# Laboratorio 8"
   ],
   "cell_type": "markdown",
   "metadata": {}
  },
  {
   "source": [
    "Ricardo Pineda | 20160164"
   ],
   "cell_type": "markdown",
   "metadata": {}
  },
  {
   "source": [
    "Primero, hay que hacer los imports de las librerias que seran usadas"
   ],
   "cell_type": "markdown",
   "metadata": {}
  },
  {
   "cell_type": "code",
   "execution_count": 3,
   "metadata": {},
   "outputs": [
    {
     "output_type": "stream",
     "name": "stdout",
     "text": [
      "importado correctamente\n"
     ]
    }
   ],
   "source": [
    "import numpy as np\n",
    "import pandas as pd\n",
    "\n",
    "print('importado correctamente')"
   ]
  },
  {
   "cell_type": "code",
   "execution_count": 6,
   "metadata": {},
   "outputs": [
    {
     "output_type": "execute_result",
     "data": {
      "text/plain": [
       "       PassengerId    Survived      Pclass         Age       SibSp  \\\n",
       "count   183.000000  183.000000  183.000000  158.000000  180.000000   \n",
       "mean    455.366120    0.672131    1.191257   35.692532    0.461111   \n",
       "std     247.052476    0.470725    0.515187   15.640858    0.646122   \n",
       "min       2.000000    0.000000    1.000000    0.920000    0.000000   \n",
       "25%     263.500000    0.000000    1.000000   24.000000    0.000000   \n",
       "50%     457.000000    1.000000    1.000000   35.500000    0.000000   \n",
       "75%     676.000000    1.000000    1.000000   48.000000    1.000000   \n",
       "max     890.000000    1.000000    3.000000   80.000000    3.000000   \n",
       "\n",
       "            Parch        Fare  \n",
       "count  171.000000  175.000000  \n",
       "mean     0.461988   78.959191  \n",
       "std      0.753435   77.026328  \n",
       "min      0.000000    0.000000  \n",
       "25%      0.000000   29.700000  \n",
       "50%      0.000000   56.929200  \n",
       "75%      1.000000   90.539600  \n",
       "max      4.000000  512.329200  "
      ],
      "text/html": "<div>\n<style scoped>\n    .dataframe tbody tr th:only-of-type {\n        vertical-align: middle;\n    }\n\n    .dataframe tbody tr th {\n        vertical-align: top;\n    }\n\n    .dataframe thead th {\n        text-align: right;\n    }\n</style>\n<table border=\"1\" class=\"dataframe\">\n  <thead>\n    <tr style=\"text-align: right;\">\n      <th></th>\n      <th>PassengerId</th>\n      <th>Survived</th>\n      <th>Pclass</th>\n      <th>Age</th>\n      <th>SibSp</th>\n      <th>Parch</th>\n      <th>Fare</th>\n    </tr>\n  </thead>\n  <tbody>\n    <tr>\n      <th>count</th>\n      <td>183.000000</td>\n      <td>183.000000</td>\n      <td>183.000000</td>\n      <td>158.000000</td>\n      <td>180.000000</td>\n      <td>171.000000</td>\n      <td>175.000000</td>\n    </tr>\n    <tr>\n      <th>mean</th>\n      <td>455.366120</td>\n      <td>0.672131</td>\n      <td>1.191257</td>\n      <td>35.692532</td>\n      <td>0.461111</td>\n      <td>0.461988</td>\n      <td>78.959191</td>\n    </tr>\n    <tr>\n      <th>std</th>\n      <td>247.052476</td>\n      <td>0.470725</td>\n      <td>0.515187</td>\n      <td>15.640858</td>\n      <td>0.646122</td>\n      <td>0.753435</td>\n      <td>77.026328</td>\n    </tr>\n    <tr>\n      <th>min</th>\n      <td>2.000000</td>\n      <td>0.000000</td>\n      <td>1.000000</td>\n      <td>0.920000</td>\n      <td>0.000000</td>\n      <td>0.000000</td>\n      <td>0.000000</td>\n    </tr>\n    <tr>\n      <th>25%</th>\n      <td>263.500000</td>\n      <td>0.000000</td>\n      <td>1.000000</td>\n      <td>24.000000</td>\n      <td>0.000000</td>\n      <td>0.000000</td>\n      <td>29.700000</td>\n    </tr>\n    <tr>\n      <th>50%</th>\n      <td>457.000000</td>\n      <td>1.000000</td>\n      <td>1.000000</td>\n      <td>35.500000</td>\n      <td>0.000000</td>\n      <td>0.000000</td>\n      <td>56.929200</td>\n    </tr>\n    <tr>\n      <th>75%</th>\n      <td>676.000000</td>\n      <td>1.000000</td>\n      <td>1.000000</td>\n      <td>48.000000</td>\n      <td>1.000000</td>\n      <td>1.000000</td>\n      <td>90.539600</td>\n    </tr>\n    <tr>\n      <th>max</th>\n      <td>890.000000</td>\n      <td>1.000000</td>\n      <td>3.000000</td>\n      <td>80.000000</td>\n      <td>3.000000</td>\n      <td>4.000000</td>\n      <td>512.329200</td>\n    </tr>\n  </tbody>\n</table>\n</div>"
     },
     "metadata": {},
     "execution_count": 6
    }
   ],
   "source": [
    "dataset_MD = pd.read_csv('titanic_MD.csv')\n",
    "dataset_MD.describe()"
   ]
  },
  {
   "source": [
    "# Solucion"
   ],
   "cell_type": "markdown",
   "metadata": {}
  },
  {
   "cell_type": "code",
   "execution_count": null,
   "metadata": {},
   "outputs": [],
   "source": []
  }
 ]
}