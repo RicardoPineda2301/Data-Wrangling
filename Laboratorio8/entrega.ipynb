{
 "metadata": {
  "language_info": {
   "codemirror_mode": {
    "name": "ipython",
    "version": 3
   },
   "file_extension": ".py",
   "mimetype": "text/x-python",
   "name": "python",
   "nbconvert_exporter": "python",
   "pygments_lexer": "ipython3",
   "version": "3.7.6-final"
  },
  "orig_nbformat": 2,
  "kernelspec": {
   "name": "python3",
   "display_name": "Python 3"
  }
 },
 "nbformat": 4,
 "nbformat_minor": 2,
 "cells": [
  {
   "source": [
    "# Laboratorio 8"
   ],
   "cell_type": "markdown",
   "metadata": {}
  },
  {
   "source": [
    "Ricardo Pineda | 20160164"
   ],
   "cell_type": "markdown",
   "metadata": {}
  },
  {
   "source": [
    "Primero, hay que hacer los imports de las librerias que seran usadas"
   ],
   "cell_type": "markdown",
   "metadata": {}
  },
  {
   "cell_type": "code",
   "execution_count": 1,
   "metadata": {},
   "outputs": [
    {
     "output_type": "stream",
     "name": "stdout",
     "text": [
      "importado correctamente\n"
     ]
    }
   ],
   "source": [
    "import numpy as np\n",
    "import pandas as pd\n",
    "\n",
    "print('importado correctamente')"
   ]
  },
  {
   "cell_type": "code",
   "execution_count": 2,
   "metadata": {},
   "outputs": [
    {
     "output_type": "execute_result",
     "data": {
      "text/plain": [
       "   PassengerId  Survived  Pclass  \\\n",
       "0            2         1       1   \n",
       "1            4         1       1   \n",
       "2            7         0       1   \n",
       "\n",
       "                                                Name     Sex   Age  SibSp  \\\n",
       "0  Cumings, Mrs. John Bradley (Florence Briggs Th...       ?  38.0    1.0   \n",
       "1       Futrelle, Mrs. Jacques Heath (Lily May Peel)  female  35.0    1.0   \n",
       "2                            McCarthy, Mr. Timothy J    male  54.0    0.0   \n",
       "\n",
       "   Parch    Ticket     Fare Cabin Embarked  \n",
       "0    0.0  PC 17599  71.2833   C85        C  \n",
       "1    0.0    113803  53.1000  C123        S  \n",
       "2    0.0     17463  51.8625   E46        S  "
      ],
      "text/html": "<div>\n<style scoped>\n    .dataframe tbody tr th:only-of-type {\n        vertical-align: middle;\n    }\n\n    .dataframe tbody tr th {\n        vertical-align: top;\n    }\n\n    .dataframe thead th {\n        text-align: right;\n    }\n</style>\n<table border=\"1\" class=\"dataframe\">\n  <thead>\n    <tr style=\"text-align: right;\">\n      <th></th>\n      <th>PassengerId</th>\n      <th>Survived</th>\n      <th>Pclass</th>\n      <th>Name</th>\n      <th>Sex</th>\n      <th>Age</th>\n      <th>SibSp</th>\n      <th>Parch</th>\n      <th>Ticket</th>\n      <th>Fare</th>\n      <th>Cabin</th>\n      <th>Embarked</th>\n    </tr>\n  </thead>\n  <tbody>\n    <tr>\n      <th>0</th>\n      <td>2</td>\n      <td>1</td>\n      <td>1</td>\n      <td>Cumings, Mrs. John Bradley (Florence Briggs Th...</td>\n      <td>?</td>\n      <td>38.0</td>\n      <td>1.0</td>\n      <td>0.0</td>\n      <td>PC 17599</td>\n      <td>71.2833</td>\n      <td>C85</td>\n      <td>C</td>\n    </tr>\n    <tr>\n      <th>1</th>\n      <td>4</td>\n      <td>1</td>\n      <td>1</td>\n      <td>Futrelle, Mrs. Jacques Heath (Lily May Peel)</td>\n      <td>female</td>\n      <td>35.0</td>\n      <td>1.0</td>\n      <td>0.0</td>\n      <td>113803</td>\n      <td>53.1000</td>\n      <td>C123</td>\n      <td>S</td>\n    </tr>\n    <tr>\n      <th>2</th>\n      <td>7</td>\n      <td>0</td>\n      <td>1</td>\n      <td>McCarthy, Mr. Timothy J</td>\n      <td>male</td>\n      <td>54.0</td>\n      <td>0.0</td>\n      <td>0.0</td>\n      <td>17463</td>\n      <td>51.8625</td>\n      <td>E46</td>\n      <td>S</td>\n    </tr>\n  </tbody>\n</table>\n</div>"
     },
     "metadata": {},
     "execution_count": 2
    }
   ],
   "source": [
    "dataset_MD = pd.read_csv('titanic_MD.csv')\n",
    "dataset_MD.head(3)"
   ]
  },
  {
   "source": [
    "# Solucion"
   ],
   "cell_type": "markdown",
   "metadata": {}
  },
  {
   "source": [
    "Lo primero es determinar que columnas tienen datos nulos. Para esto se usa la funcion **isna** y se suman los resultados"
   ],
   "cell_type": "markdown",
   "metadata": {}
  },
  {
   "cell_type": "code",
   "execution_count": 5,
   "metadata": {},
   "outputs": [
    {
     "output_type": "stream",
     "name": "stdout",
     "text": [
      "PassengerId     0\nSurvived        0\nPclass          0\nName            0\nSex             0\nAge            25\nSibSp           3\nParch          12\nTicket          0\nFare            8\nCabin           0\nEmbarked       12\ndtype: int64\n"
     ]
    }
   ],
   "source": [
    "print(dataset_MD.isna().sum())"
   ]
  },
  {
   "source": [
    "Las columnas que tienen datos nulos son: \n",
    "\n",
    "- Age\n",
    "\n",
    "- SibSp\n",
    "\n",
    "- Parch\n",
    "\n",
    "- Fare\n",
    "\n",
    "- Embarked\n",
    "\n",
    "Sin embargo, hay un detalle que es importante notar. La funcion **isna** solo tomar los valores que python define como valores nulos, pero si una columna tuviera los valores nulos identificados con un caracter en especifico, como '?' por ejemplo, no los va a agarrar.\n",
    "\n",
    "Con esto en mente, si se examina la columna *Sex* se puede notar que esta columna de hecho si tiene nulos, a pesar de que la funcion sugiere que no."
   ],
   "cell_type": "markdown",
   "metadata": {}
  },
  {
   "cell_type": "code",
   "execution_count": 7,
   "metadata": {},
   "outputs": [
    {
     "output_type": "stream",
     "name": "stdout",
     "text": [
      "['?' 'female' 'male']\n"
     ]
    }
   ],
   "source": [
    "print(np.unique(dataset_MD.Sex))"
   ]
  },
  {
   "source": [
    "Efectivamente, la columna Sex tiene '?' indicando nulos. <br>\n",
    "Lo que hay que hacer es especificar que los simbolos '?' o cualquier otro identificador de nulos, sean cambiados a nulos de python para que la funcion los agarre."
   ],
   "cell_type": "markdown",
   "metadata": {}
  },
  {
   "cell_type": "code",
   "execution_count": 11,
   "metadata": {},
   "outputs": [
    {
     "output_type": "stream",
     "name": "stdout",
     "text": [
      "PassengerId     0\nSurvived        0\nPclass          0\nName            0\nSex            51\nAge            25\nSibSp           3\nParch          12\nTicket          0\nFare            8\nCabin           0\nEmbarked       12\ndtype: int64\n"
     ]
    }
   ],
   "source": [
    "simbolos = ['?', 'nan', 'NaN', 'null', 'Null']\n",
    "for i in simbolos:\n",
    "    dataset_MD = dataset_MD.replace(i, np.nan)\n",
    "print(dataset_MD.isna().sum())"
   ]
  },
  {
   "source": [
    "Efectivamente, ahora hay mas columnas con nulos que previamente. Esta vez, las columnas que contienen nulos son: \n",
    "\n",
    "- Sex\n",
    "\n",
    "- Age\n",
    "\n",
    "- SibSp\n",
    "\n",
    "- Parch\n",
    "\n",
    "- Fare\n",
    "\n",
    "- Embarked"
   ],
   "cell_type": "markdown",
   "metadata": {}
  },
  {
   "source": [
    "# Modelos para missing values"
   ],
   "cell_type": "markdown",
   "metadata": {}
  },
  {
   "source": [
    "## Deletion"
   ],
   "cell_type": "markdown",
   "metadata": {}
  },
  {
   "source": [
    "Este metodo es muy sencillo de implementar, pues tiene una funcion que hace precisamente esto: **dropna**\n",
    "Para medir exactamente cuantos valores fueron eliminados, usare la medida **len** del DataSet"
   ],
   "cell_type": "markdown",
   "metadata": {}
  },
  {
   "cell_type": "code",
   "execution_count": 50,
   "metadata": {},
   "outputs": [
    {
     "output_type": "stream",
     "name": "stdout",
     "text": [
      "\n Cantidad de datos originales:  183 \n Cantidad de datos que fueron eliminadors (nulos):  83 \n Nuevo total sin contar los datos nulos:  100\n"
     ]
    }
   ],
   "source": [
    "a = len(dataset_MD)\n",
    "b = dataset_MD.dropna()\n",
    "b = len(b)\n",
    "print(\"\\n\", 'Cantidad de datos originales: ' , a , \"\\n\", 'Cantidad de datos que fueron eliminadors (nulos): ', a - b, \"\\n\", 'Nuevo total sin contar los datos nulos: ', b)"
   ]
  },
  {
   "source": [
    "Esta solucion no discrimina, simplemente encuentra valores nulos y los bota. En este caso, bota casi la mitad del dataset y es por este tipo de situaciones que generalmente se busca evitar este metodo."
   ],
   "cell_type": "markdown",
   "metadata": {}
  }
 ]
}