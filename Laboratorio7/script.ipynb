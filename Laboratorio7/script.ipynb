{
 "metadata": {
  "language_info": {
   "codemirror_mode": {
    "name": "ipython",
    "version": 3
   },
   "file_extension": ".py",
   "mimetype": "text/x-python",
   "name": "python",
   "nbconvert_exporter": "python",
   "pygments_lexer": "ipython3",
   "version": "3.8.3-final"
  },
  "orig_nbformat": 2,
  "kernelspec": {
   "name": "Python 3.8.3 64-bit ('base': conda)",
   "display_name": "Python 3.8.3 64-bit ('base': conda)",
   "metadata": {
    "interpreter": {
     "hash": "5f6c10c60de62843dc081b03eee6c66e3cd973187366879027e60b56edf49fc4"
    }
   }
  }
 },
 "nbformat": 4,
 "nbformat_minor": 2,
 "cells": [
  {
   "source": [
    "# Laboratorio 7"
   ],
   "cell_type": "markdown",
   "metadata": {}
  },
  {
   "source": [
    "### Inversiones en Energia, S.A "
   ],
   "cell_type": "markdown",
   "metadata": {}
  },
  {
   "source": [
    "Recomendaciones y preguntas:\n",
    "\n",
    "- Estado de resultados breve del 2017.\n",
    "\n",
    "- ¿Cómo quedó el tarifario en el 2017por unidad?\n",
    "\n",
    "- Las tarifas actuales ¿son aceptables por el cliente? ¿Estamos en números rojos?\n",
    "\n",
    "- ¿Cuándo podríamos perderle a un mantenimiento y/o reparación?\n",
    "\n",
    "- ¿Debemos abrir más centros de distribución?\n",
    "\n",
    "- ¿Qué estrategias debo seguir?\n",
    "\n",
    "Adicionalmente, quiere entenderse visualmente: \n",
    "\n",
    "- 80-20 de clientes (postes en este caso)\n",
    "\n",
    "- Recorridos mas efectivos"
   ],
   "cell_type": "markdown",
   "metadata": {}
  },
  {
   "cell_type": "code",
   "execution_count": 6,
   "metadata": {
    "tags": []
   },
   "outputs": [
    {
     "output_type": "stream",
     "name": "stdout",
     "text": "listo\n"
    }
   ],
   "source": [
    "import pandas as pd\n",
    "import numpy as np\n",
    "import seaborn as sns\n",
    "print(\"listo\")"
   ]
  },
  {
   "cell_type": "code",
   "execution_count": 14,
   "metadata": {},
   "outputs": [
    {
     "output_type": "execute_result",
     "data": {
      "text/plain": "        Fecha      ID Camion_5     Pickup    Moto                     Cod  \\\n0  10/12/2017  368224    Q-      Q270.72    Q-     VERIFICACION_MEDIDORES   \n1    19-03-17  368224    Q-      Q262.24    Q-     REVISION_TRANSFORMADOR   \n2    13-03-17  368224    Q-      Q230.04    Q-                   REVISION   \n3    14-04-17  368224    Q-      Q268.77    Q-                   REVISION   \n4   11/4/2017  748633    Q-      Q233.33    Q-                   REVISION   \n\n   origen        Lat       Long    factura  ... directoMoto fijoCamion_5  \\\n0  150277  15.463326 -89.725646   Q316.72   ...       Q-           Q-      \n1  150277  15.463326 -89.725646   Q267.24   ...       Q-           Q-      \n2  150277  15.463326 -89.725646   Q236.04   ...       Q-           Q-      \n3  150224  15.463326 -89.725646   Q289.77   ...       Q-           Q-      \n4  150277  14.725681 -90.896437   Q248.33   ...       Q-           Q-      \n\n  fijoPickup fijoMoto height 5-30  30-45 45-75 75-120 120+  \n0   Q102.87     Q-         8                            x   \n1    Q89.16     Q-         8                            x   \n2    Q94.32     Q-         8                            x   \n3    Q94.07     Q-         8                            x   \n4    Q79.33     Q-         8                            x   \n\n[5 rows x 22 columns]",
      "text/html": "<div>\n<style scoped>\n    .dataframe tbody tr th:only-of-type {\n        vertical-align: middle;\n    }\n\n    .dataframe tbody tr th {\n        vertical-align: top;\n    }\n\n    .dataframe thead th {\n        text-align: right;\n    }\n</style>\n<table border=\"1\" class=\"dataframe\">\n  <thead>\n    <tr style=\"text-align: right;\">\n      <th></th>\n      <th>Fecha</th>\n      <th>ID</th>\n      <th>Camion_5</th>\n      <th>Pickup</th>\n      <th>Moto</th>\n      <th>Cod</th>\n      <th>origen</th>\n      <th>Lat</th>\n      <th>Long</th>\n      <th>factura</th>\n      <th>...</th>\n      <th>directoMoto</th>\n      <th>fijoCamion_5</th>\n      <th>fijoPickup</th>\n      <th>fijoMoto</th>\n      <th>height</th>\n      <th>5-30</th>\n      <th>30-45</th>\n      <th>45-75</th>\n      <th>75-120</th>\n      <th>120+</th>\n    </tr>\n  </thead>\n  <tbody>\n    <tr>\n      <th>0</th>\n      <td>10/12/2017</td>\n      <td>368224</td>\n      <td>Q-</td>\n      <td>Q270.72</td>\n      <td>Q-</td>\n      <td>VERIFICACION_MEDIDORES</td>\n      <td>150277</td>\n      <td>15.463326</td>\n      <td>-89.725646</td>\n      <td>Q316.72</td>\n      <td>...</td>\n      <td>Q-</td>\n      <td>Q-</td>\n      <td>Q102.87</td>\n      <td>Q-</td>\n      <td>8</td>\n      <td></td>\n      <td></td>\n      <td></td>\n      <td></td>\n      <td>x</td>\n    </tr>\n    <tr>\n      <th>1</th>\n      <td>19-03-17</td>\n      <td>368224</td>\n      <td>Q-</td>\n      <td>Q262.24</td>\n      <td>Q-</td>\n      <td>REVISION_TRANSFORMADOR</td>\n      <td>150277</td>\n      <td>15.463326</td>\n      <td>-89.725646</td>\n      <td>Q267.24</td>\n      <td>...</td>\n      <td>Q-</td>\n      <td>Q-</td>\n      <td>Q89.16</td>\n      <td>Q-</td>\n      <td>8</td>\n      <td></td>\n      <td></td>\n      <td></td>\n      <td></td>\n      <td>x</td>\n    </tr>\n    <tr>\n      <th>2</th>\n      <td>13-03-17</td>\n      <td>368224</td>\n      <td>Q-</td>\n      <td>Q230.04</td>\n      <td>Q-</td>\n      <td>REVISION</td>\n      <td>150277</td>\n      <td>15.463326</td>\n      <td>-89.725646</td>\n      <td>Q236.04</td>\n      <td>...</td>\n      <td>Q-</td>\n      <td>Q-</td>\n      <td>Q94.32</td>\n      <td>Q-</td>\n      <td>8</td>\n      <td></td>\n      <td></td>\n      <td></td>\n      <td></td>\n      <td>x</td>\n    </tr>\n    <tr>\n      <th>3</th>\n      <td>14-04-17</td>\n      <td>368224</td>\n      <td>Q-</td>\n      <td>Q268.77</td>\n      <td>Q-</td>\n      <td>REVISION</td>\n      <td>150224</td>\n      <td>15.463326</td>\n      <td>-89.725646</td>\n      <td>Q289.77</td>\n      <td>...</td>\n      <td>Q-</td>\n      <td>Q-</td>\n      <td>Q94.07</td>\n      <td>Q-</td>\n      <td>8</td>\n      <td></td>\n      <td></td>\n      <td></td>\n      <td></td>\n      <td>x</td>\n    </tr>\n    <tr>\n      <th>4</th>\n      <td>11/4/2017</td>\n      <td>748633</td>\n      <td>Q-</td>\n      <td>Q233.33</td>\n      <td>Q-</td>\n      <td>REVISION</td>\n      <td>150277</td>\n      <td>14.725681</td>\n      <td>-90.896437</td>\n      <td>Q248.33</td>\n      <td>...</td>\n      <td>Q-</td>\n      <td>Q-</td>\n      <td>Q79.33</td>\n      <td>Q-</td>\n      <td>8</td>\n      <td></td>\n      <td></td>\n      <td></td>\n      <td></td>\n      <td>x</td>\n    </tr>\n  </tbody>\n</table>\n<p>5 rows × 22 columns</p>\n</div>"
     },
     "metadata": {},
     "execution_count": 14
    }
   ],
   "source": [
    "data_inicial = pd.read_csv(\"c1.csv\")\n",
    "data_inicial.head()"
   ]
  },
  {
   "source": [
    "**Seleccionar los puntos de origen unicos**"
   ],
   "cell_type": "markdown",
   "metadata": {}
  },
  {
   "cell_type": "code",
   "execution_count": 12,
   "metadata": {
    "tags": []
   },
   "outputs": [
    {
     "output_type": "stream",
     "name": "stdout",
     "text": "[150224 150277 150278 150841]\n"
    }
   ],
   "source": [
    "origenes = np.unique(data_inicial.origen, axis = 0)\n",
    "print(origenes)"
   ]
  },
  {
   "source": [
    "Segun gps-coordinates.org, las coordenadas de cada origen quedan de la siguiente manera:\n",
    "\n",
    "- 150224 = \n",
    "- 150277 = Comalapa\n",
    "- 150278 = \n",
    "- 150841 = "
   ],
   "cell_type": "markdown",
   "metadata": {}
  }
 ]
}